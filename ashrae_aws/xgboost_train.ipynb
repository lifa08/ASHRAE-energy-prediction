{
 "cells": [
  {
   "cell_type": "code",
   "execution_count": 1,
   "metadata": {},
   "outputs": [],
   "source": [
    "import numpy as np\n",
    "import pandas as pd\n",
    "\n",
    "import boto3\n",
    "import re\n",
    "\n",
    "import sagemaker\n",
    "from sagemaker import get_execution_role"
   ]
  },
  {
   "cell_type": "markdown",
   "metadata": {},
   "source": [
    "## Upload Data to S3"
   ]
  },
  {
   "cell_type": "code",
   "execution_count": 2,
   "metadata": {},
   "outputs": [],
   "source": [
    "# Specify your bucket name\n",
    "bucket_name = 'lifa08-ml-sagemaker'\n",
    "\n",
    "training_folder = r'ashrae/training/'\n",
    "validation_folder = r'ashrae/validation/'\n",
    "test_folder = r'ashrae/test/'\n",
    "\n",
    "s3_model_output_location = r's3://{0}/ashrae/model'.format(bucket_name)\n",
    "s3_training_file_location = r's3://{0}/{1}'.format(bucket_name,training_folder)\n",
    "s3_validation_file_location = r's3://{0}/{1}'.format(bucket_name,validation_folder)\n",
    "s3_test_file_location = r's3://{0}/{1}'.format(bucket_name,test_folder)"
   ]
  },
  {
   "cell_type": "code",
   "execution_count": 3,
   "metadata": {},
   "outputs": [
    {
     "name": "stdout",
     "output_type": "stream",
     "text": [
      "s3://lifa08-ml-sagemaker/ashrae/model\n",
      "s3://lifa08-ml-sagemaker/ashrae/training/\n",
      "s3://lifa08-ml-sagemaker/ashrae/validation/\n",
      "s3://lifa08-ml-sagemaker/ashrae/test/\n"
     ]
    }
   ],
   "source": [
    "print(s3_model_output_location)\n",
    "print(s3_training_file_location)\n",
    "print(s3_validation_file_location)\n",
    "print(s3_test_file_location)"
   ]
  },
  {
   "cell_type": "markdown",
   "metadata": {},
   "source": [
    "## Training Algorithm Docker Image"
   ]
  },
  {
   "cell_type": "code",
   "execution_count": 4,
   "metadata": {},
   "outputs": [],
   "source": [
    "# Establish a session with AWS\n",
    "sess = sagemaker.Session()"
   ]
  },
  {
   "cell_type": "code",
   "execution_count": 5,
   "metadata": {},
   "outputs": [],
   "source": [
    "role = get_execution_role()"
   ]
  },
  {
   "cell_type": "code",
   "execution_count": 6,
   "metadata": {},
   "outputs": [
    {
     "name": "stdout",
     "output_type": "stream",
     "text": [
      "arn:aws:iam::546778850930:role/service-role/AmazonSageMaker-ExecutionRole-20191206T232794\n"
     ]
    }
   ],
   "source": [
    "# This role contains the permissions needed to train, deploy models\n",
    "# SageMaker Service is trusted to assume this role\n",
    "print(role)"
   ]
  },
  {
   "cell_type": "code",
   "execution_count": 7,
   "metadata": {},
   "outputs": [
    {
     "name": "stderr",
     "output_type": "stream",
     "text": [
      "WARNING:root:There is a more up to date SageMaker XGBoost image. To use the newer image, please set 'repo_version'='0.90-1'. For example:\n",
      "\tget_image_uri(region, 'xgboost', '0.90-1').\n"
     ]
    },
    {
     "name": "stdout",
     "output_type": "stream",
     "text": [
      "Using SageMaker XGBoost container:\n",
      "811284229777.dkr.ecr.us-east-1.amazonaws.com/xgboost:latest (us-east-1)\n"
     ]
    }
   ],
   "source": [
    "container = sagemaker.amazon.amazon_estimator.get_image_uri(\n",
    "    sess.boto_region_name,\n",
    "    \"xgboost\", \n",
    "    \"latest\")\n",
    "\n",
    "print('Using SageMaker XGBoost container:\\n{} ({})'.format(container, sess.boto_region_name))"
   ]
  },
  {
   "cell_type": "markdown",
   "metadata": {},
   "source": [
    "## Build Model"
   ]
  },
  {
   "cell_type": "code",
   "execution_count": 8,
   "metadata": {},
   "outputs": [],
   "source": [
    "estimator = sagemaker.estimator.Estimator(\n",
    "    container,\n",
    "    role, \n",
    "    train_instance_count=1, \n",
    "    train_instance_type='ml.m4.10xlarge',\n",
    "    output_path=s3_model_output_location,\n",
    "    sagemaker_session=sess,\n",
    "    base_job_name ='xgboost-ashrae-v1')"
   ]
  },
  {
   "cell_type": "code",
   "execution_count": 9,
   "metadata": {},
   "outputs": [],
   "source": [
    "estimator.set_hyperparameters(max_depth=60,\n",
    "                              objective=\"reg:linear\",\n",
    "                              eta=0.1,\n",
    "                              num_round=6)"
   ]
  },
  {
   "cell_type": "code",
   "execution_count": 10,
   "metadata": {},
   "outputs": [
    {
     "data": {
      "text/plain": [
       "{'max_depth': 60, 'objective': 'reg:linear', 'eta': 0.1, 'num_round': 6}"
      ]
     },
     "execution_count": 10,
     "metadata": {},
     "output_type": "execute_result"
    }
   ],
   "source": [
    "estimator.hyperparameters()"
   ]
  },
  {
   "cell_type": "markdown",
   "metadata": {
    "collapsed": true
   },
   "source": [
    "### Specify Training Data Location and Optionally, Validation Data Location"
   ]
  },
  {
   "cell_type": "code",
   "execution_count": 11,
   "metadata": {},
   "outputs": [],
   "source": [
    "# content type can be libsvm or csv for XGBoost\n",
    "training_input_config = sagemaker.session.s3_input(\n",
    "    s3_data=s3_training_file_location,\n",
    "    content_type='csv',\n",
    "    s3_data_type='S3Prefix')\n",
    "\n",
    "validation_input_config = sagemaker.session.s3_input(\n",
    "    s3_data=s3_validation_file_location,\n",
    "    content_type='csv',\n",
    "    s3_data_type='S3Prefix'\n",
    ")\n",
    "\n",
    "data_channels = {'train': training_input_config, 'validation': validation_input_config}"
   ]
  },
  {
   "cell_type": "code",
   "execution_count": 12,
   "metadata": {},
   "outputs": [
    {
     "name": "stdout",
     "output_type": "stream",
     "text": [
      "{'DataSource': {'S3DataSource': {'S3DataType': 'S3Prefix', 'S3Uri': 's3://lifa08-ml-sagemaker/ashrae/training/', 'S3DataDistributionType': 'FullyReplicated'}}, 'ContentType': 'csv'}\n",
      "{'DataSource': {'S3DataSource': {'S3DataType': 'S3Prefix', 'S3Uri': 's3://lifa08-ml-sagemaker/ashrae/validation/', 'S3DataDistributionType': 'FullyReplicated'}}, 'ContentType': 'csv'}\n"
     ]
    }
   ],
   "source": [
    "print(training_input_config.config)\n",
    "print(validation_input_config.config)"
   ]
  },
  {
   "cell_type": "markdown",
   "metadata": {},
   "source": [
    "### Train the model"
   ]
  },
  {
   "cell_type": "code",
   "execution_count": 13,
   "metadata": {},
   "outputs": [
    {
     "name": "stdout",
     "output_type": "stream",
     "text": [
      "2020-01-11 08:18:47 Starting - Starting the training job...\n",
      "2020-01-11 08:18:48 Starting - Launching requested ML instances......\n",
      "2020-01-11 08:19:54 Starting - Preparing the instances for training...\n",
      "2020-01-11 08:20:37 Downloading - Downloading input data...\n",
      "2020-01-11 08:21:14 Training - Downloading the training image..\u001b[34mArguments: train\u001b[0m\n",
      "\u001b[34m[2020-01-11:08:21:30:INFO] Running standalone xgboost training.\u001b[0m\n",
      "\u001b[34m[2020-01-11:08:21:30:INFO] File size need to be processed in the node: 1198.19mb. Available memory size in the node: 152546.29mb\u001b[0m\n",
      "\u001b[34m[2020-01-11:08:21:30:INFO] Determined delimiter of CSV input is ','\u001b[0m\n",
      "\u001b[34m[08:21:30] S3DistributionType set as FullyReplicated\u001b[0m\n",
      "\n",
      "2020-01-11 08:21:28 Training - Training image download completed. Training in progress.\u001b[34m[08:21:33] 13618907x9 matrix with 122570163 entries loaded from /opt/ml/input/data/train?format=csv&label_column=0&delimiter=,\u001b[0m\n",
      "\u001b[34m[2020-01-11:08:21:33:INFO] Determined delimiter of CSV input is ','\u001b[0m\n",
      "\u001b[34m[08:21:33] S3DistributionType set as FullyReplicated\u001b[0m\n",
      "\u001b[34m[08:21:35] 5836675x9 matrix with 52530075 entries loaded from /opt/ml/input/data/validation?format=csv&label_column=0&delimiter=,\u001b[0m\n",
      "\u001b[34m[08:21:35] Tree method is automatically selected to be 'approx' for faster speed. to use old behavior(exact greedy algorithm on single machine), set tree_method to 'exact'\u001b[0m\n",
      "\u001b[34m[08:22:07] src/tree/updater_prune.cc:74: tree pruning end, 1 roots, 813016 extra nodes, 0 pruned nodes, max_depth=46\u001b[0m\n",
      "\u001b[34m[0]#011train-rmse:3.88601#011validation-rmse:3.89044\u001b[0m\n",
      "\u001b[34m[08:22:38] src/tree/updater_prune.cc:74: tree pruning end, 1 roots, 883960 extra nodes, 0 pruned nodes, max_depth=46\u001b[0m\n",
      "\u001b[34m[1]#011train-rmse:3.52017#011validation-rmse:3.53151\u001b[0m\n",
      "\u001b[34m[08:23:10] src/tree/updater_prune.cc:74: tree pruning end, 1 roots, 962270 extra nodes, 0 pruned nodes, max_depth=46\u001b[0m\n",
      "\u001b[34m[2]#011train-rmse:3.19199#011validation-rmse:3.21144\u001b[0m\n",
      "\u001b[34m[08:23:43] src/tree/updater_prune.cc:74: tree pruning end, 1 roots, 1033112 extra nodes, 0 pruned nodes, max_depth=48\u001b[0m\n",
      "\u001b[34m[3]#011train-rmse:2.89769#011validation-rmse:2.92643\u001b[0m\n",
      "\u001b[34m[08:24:17] src/tree/updater_prune.cc:74: tree pruning end, 1 roots, 1108200 extra nodes, 0 pruned nodes, max_depth=46\u001b[0m\n",
      "\u001b[34m[4]#011train-rmse:2.63382#011validation-rmse:2.67316\u001b[0m\n",
      "\u001b[34m[08:24:52] src/tree/updater_prune.cc:74: tree pruning end, 1 roots, 1216984 extra nodes, 0 pruned nodes, max_depth=46\u001b[0m\n",
      "\u001b[34m[5]#011train-rmse:2.39753#011validation-rmse:2.44904\u001b[0m\n",
      "\n",
      "2020-01-11 08:24:56 Uploading - Uploading generated training model\n",
      "2020-01-11 08:25:37 Completed - Training job completed\n",
      "Training seconds: 300\n",
      "Billable seconds: 300\n"
     ]
    }
   ],
   "source": [
    "estimator.fit(data_channels)"
   ]
  },
  {
   "cell_type": "markdown",
   "metadata": {},
   "source": [
    "## Deploy Model"
   ]
  },
  {
   "cell_type": "code",
   "execution_count": 15,
   "metadata": {},
   "outputs": [
    {
     "name": "stderr",
     "output_type": "stream",
     "text": [
      "WARNING:sagemaker:Using already existing model: xgboost-ashrae-v1-2020-01-11-08-18-47-271\n"
     ]
    },
    {
     "name": "stdout",
     "output_type": "stream",
     "text": [
      "---------------------------------------------------------------------------------------------------------------!"
     ]
    }
   ],
   "source": [
    "predictor = estimator.deploy(initial_instance_count=1,\n",
    "                             instance_type='ml.m4.10xlarge',\n",
    "                             endpoint_name = 'xgboost-ashrae-v5')"
   ]
  },
  {
   "cell_type": "markdown",
   "metadata": {
    "collapsed": true
   },
   "source": [
    "## Run Predictions"
   ]
  },
  {
   "cell_type": "code",
   "execution_count": 16,
   "metadata": {},
   "outputs": [],
   "source": [
    "from sagemaker.predictor import csv_serializer, json_deserializer\n",
    "\n",
    "predictor.content_type = 'text/csv'\n",
    "predictor.serializer = csv_serializer\n",
    "predictor.deserializer = None"
   ]
  },
  {
   "cell_type": "code",
   "execution_count": 17,
   "metadata": {},
   "outputs": [
    {
     "data": {
      "text/plain": [
       "b'0.804454624653'"
      ]
     },
     "execution_count": 17,
     "metadata": {},
     "output_type": "execute_result"
    }
   ],
   "source": [
    "# Example test data for row_id = 0\n",
    "predictor.predict([[0,0,8.913685,17.8,4.0,11.7,0.0,0,6]])"
   ]
  }
 ],
 "metadata": {
  "kernelspec": {
   "display_name": "conda_python3",
   "language": "python",
   "name": "conda_python3"
  },
  "language_info": {
   "codemirror_mode": {
    "name": "ipython",
    "version": 3
   },
   "file_extension": ".py",
   "mimetype": "text/x-python",
   "name": "python",
   "nbconvert_exporter": "python",
   "pygments_lexer": "ipython3",
   "version": "3.6.5"
  }
 },
 "nbformat": 4,
 "nbformat_minor": 2
}
