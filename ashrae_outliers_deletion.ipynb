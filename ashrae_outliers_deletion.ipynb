{
 "cells": [
  {
   "cell_type": "code",
   "execution_count": 1,
   "metadata": {},
   "outputs": [],
   "source": [
    "import pandas as pd\n",
    "import numpy as np\n",
    "import datetime\n",
    "import gc\n",
    "from sklearn.preprocessing import LabelEncoder"
   ]
  },
  {
   "cell_type": "code",
   "execution_count": 2,
   "metadata": {},
   "outputs": [
    {
     "data": {
      "text/plain": [
       "0"
      ]
     },
     "execution_count": 2,
     "metadata": {},
     "output_type": "execute_result"
    }
   ],
   "source": [
    "DATA_PATH = './data/'\n",
    "TRAIN_DTYPES = {'building_id': np.uint16, 'meter': np.uint8, 'meter_reading': np.float32}\n",
    "train_df = pd.read_csv(DATA_PATH + 'train.csv', dtype=TRAIN_DTYPES)\n",
    "train_df['timestamp'] = pd.to_datetime(train_df['timestamp'], infer_datetime_format=True)\n",
    "\n",
    "building_df = pd.read_csv(DATA_PATH + 'building_metadata.csv')\n",
    "train_df = train_df.merge(building_df, on='building_id', how='left')\n",
    "del building_df\n",
    "gc.collect()"
   ]
  },
  {
   "cell_type": "code",
   "execution_count": 3,
   "metadata": {},
   "outputs": [],
   "source": [
    "original_row_sum = train_df.shape[0]"
   ]
  },
  {
   "cell_type": "markdown",
   "metadata": {},
   "source": [
    "### Outliers"
   ]
  },
  {
   "cell_type": "code",
   "execution_count": 4,
   "metadata": {},
   "outputs": [],
   "source": [
    "train_df = train_df[train_df['building_id'] != 1099]\n",
    "train_df = train_df.query('not (building_id <= 104 & meter == 0 & timestamp <= \"2016-05-21\")')"
   ]
  },
  {
   "cell_type": "code",
   "execution_count": 5,
   "metadata": {},
   "outputs": [],
   "source": [
    "train_df['IsFiltered'] = 0"
   ]
  },
  {
   "cell_type": "markdown",
   "metadata": {},
   "source": [
    "## Site 0"
   ]
  },
  {
   "cell_type": "code",
   "execution_count": 6,
   "metadata": {},
   "outputs": [],
   "source": [
    "train_df.loc[train_df.query('site_id == 0 & meter_reading > 25000').index, 'IsFiltered'] = 1\n",
    "train_df.loc[train_df.query('building_id == 18 and meter == 0 and meter_reading < 1500').index, 'IsFiltered'] = 1\n",
    "train_df.loc[train_df.query('building_id == 22 and meter == 0 and meter_reading == 0').index, 'IsFiltered'] = 1\n",
    "train_df.loc[train_df.query('building_id == 25 and meter == 0 and meter_reading < 100').index, 'IsFiltered'] = 1\n",
    "train_df.loc[train_df.query('building_id == 38 and meter == 0 and meter_reading < 300').index, 'IsFiltered'] = 1\n",
    "train_df.loc[train_df.query('building_id == 53 and meter == 0').index, 'IsFiltered'] = 1\n",
    "train_df.loc[train_df.query('building_id == 78 and meter == 0 and meter_reading == 0').index, 'IsFiltered'] = 1\n",
    "train_df.loc[train_df.query('building_id == 101 and meter == 0 and meter_reading > 400').index, 'IsFiltered'] = 1\n",
    "train_df.loc[train_df.query('building_id == 101 and meter == 0 and meter_reading == 0').index, 'IsFiltered'] = 1\n",
    "train_df.loc[train_df.query('building_id == 7 and meter == 0 and meter_reading < 200').index, 'IsFiltered'] = 1\n",
    "train_df.loc[train_df.query('building_id == 8 and meter == 0 and meter_reading < 200').index, 'IsFiltered'] = 1\n",
    "train_df.loc[train_df.query('building_id == 11 and meter == 0 and meter_reading < 300').index, 'IsFiltered'] = 1\n",
    "train_df.loc[train_df.query('building_id == 12 and meter == 0 and meter_reading < 50').index, 'IsFiltered'] = 1\n",
    "train_df.loc[train_df.query('building_id == 19 and meter == 0 and meter_reading < 50').index, 'IsFiltered'] = 1\n",
    "train_df.loc[train_df.query('building_id == 23 and meter == 0 and (meter_reading < 400 or meter_reading > 1200)').index, 'IsFiltered'] = 1\n",
    "train_df.loc[train_df.query('building_id == 24 and meter == 0 and meter_reading < 400').index, 'IsFiltered'] = 1\n",
    "train_df.loc[train_df.query('building_id == 26 and meter == 0 and meter_reading < 50').index, 'IsFiltered'] = 1\n",
    "train_df.loc[train_df.query('building_id == 27 and meter == 0 and meter_reading < 100').index, 'IsFiltered'] = 1\n",
    "train_df.loc[train_df.query('building_id == 30 and meter == 0 and meter_reading < 250').index, 'IsFiltered'] = 1\n",
    "train_df.loc[train_df.query('building_id == 31 and meter == 0 and meter_reading < 200').index, 'IsFiltered'] = 1\n",
    "train_df.loc[train_df.query('building_id == 34 and meter == 0 and meter_reading < 100').index, 'IsFiltered'] = 1\n",
    "train_df.loc[train_df.query('building_id == 35 and meter == 0 and meter_reading < 100').index, 'IsFiltered'] = 1\n",
    "train_df.loc[train_df.query('building_id == 36 and meter == 0 and (meter_reading < 50 or meter_reading > 350)').index, 'IsFiltered'] = 1\n",
    "train_df.loc[train_df.query('building_id == 39 and meter == 0 and (meter_reading > 500 or meter_reading < 200)').index, 'IsFiltered'] = 1\n",
    "train_df.loc[train_df.query('building_id == 40 and meter == 0 and meter_reading > 600').index, 'IsFiltered'] = 1\n",
    "train_df.loc[train_df.query('building_id == 42 and meter == 0 and meter_reading < 600').index, 'IsFiltered'] = 1\n",
    "train_df.loc[train_df.query('building_id == 45 and meter == 0 and meter_reading < 1').index, 'IsFiltered'] = 1\n",
    "train_df.loc[train_df.query('building_id == 47 and meter == 0 and meter_reading > 800').index, 'IsFiltered'] = 1\n",
    "train_df.loc[train_df.query('building_id == 51 and meter == 0 and meter_reading < 40').index, 'IsFiltered'] = 1\n",
    "train_df.loc[train_df.query('building_id == 52 and meter == 0 and meter_reading > 700').index, 'IsFiltered'] = 1\n",
    "train_df.loc[train_df.query('building_id == 54 and meter == 0 and meter_reading < 350').index, 'IsFiltered'] = 1\n",
    "train_df.loc[train_df.query('building_id == 61 and meter == 0 and meter_reading < 100').index, 'IsFiltered'] = 1\n",
    "train_df.loc[train_df.query('building_id == 62 and meter == 0 and meter_reading < 200').index, 'IsFiltered'] = 1\n",
    "train_df.loc[train_df.query('building_id == 63 and meter == 0 and meter_reading < 100').index, 'IsFiltered'] = 1\n",
    "train_df.loc[train_df.query('building_id == 65 and meter == 0 and meter_reading < 50').index, 'IsFiltered'] = 1\n",
    "train_df.loc[train_df.query('building_id == 66 and meter == 0 and meter_reading < 50').index, 'IsFiltered'] = 1\n",
    "train_df.loc[train_df.query('building_id == 71 and meter == 0 and meter_reading < 80').index, 'IsFiltered'] = 1\n",
    "train_df.loc[train_df.query('building_id == 76 and meter == 0 and meter_reading < 1000').index, 'IsFiltered'] = 1\n",
    "train_df.loc[train_df.query('building_id == 79 and meter == 0 and meter_reading < 300').index, 'IsFiltered'] = 1\n",
    "train_df.loc[train_df.query('building_id == 80 and meter == 0 and meter_reading < 500').index, 'IsFiltered'] = 1\n",
    "train_df.loc[train_df.query('building_id == 81 and meter == 0 and meter_reading < 5').index, 'IsFiltered'] = 1\n",
    "train_df.loc[train_df.query('building_id == 85 and meter == 0 and meter_reading < 50').index, 'IsFiltered'] = 1\n",
    "train_df.loc[train_df.query('building_id == 87 and meter == 0 and meter_reading > 250').index, 'IsFiltered'] = 1\n",
    "train_df.loc[train_df.query('building_id == 88 and meter == 0 and (meter_reading < 500 or meter_reading > 1500)').index, 'IsFiltered'] = 1\n",
    "train_df.loc[train_df.query('building_id == 89 and meter == 0 and meter_reading < 1000').index, 'IsFiltered'] = 1\n",
    "train_df.loc[train_df.query('building_id == 94 and meter == 0 and meter_reading < 10').index, 'IsFiltered'] = 1\n",
    "train_df.loc[train_df.query('building_id == 100 and meter == 0 and meter_reading > 300').index, 'IsFiltered'] = 1\n",
    "\n",
    "train_df.loc[train_df.query('building_id == 98 and meter == 1 and meter_reading > 10000').index, 'IsFiltered'] = 1"
   ]
  },
  {
   "cell_type": "code",
   "execution_count": 7,
   "metadata": {},
   "outputs": [],
   "source": [
    "def find_constant(building_id, meter, min_length, plot=False, verbose=False):\n",
    "    if verbose:\n",
    "        print(\"building_id: {}, meter: {}\".format(building_id, meter))\n",
    "\n",
    "    temp_df = train_df[(train_df['building_id'] == building_id) & (train_df['meter'] == meter)]\n",
    "    target = temp_df['meter_reading'].values\n",
    "    \n",
    "    splitted_target = np.split(target, np.where(target[1:] != target[:-1])[0] + 1)\n",
    "    splitted_date = np.split(temp_df['timestamp'].values, np.where(target[1:] != target[:-1])[0] + 1)\n",
    "\n",
    "    building_idx = []\n",
    "    for i, x in enumerate(splitted_date):\n",
    "        if len(x) > min_length:\n",
    "            start = x[0]\n",
    "            end = x[-1]\n",
    "            value = splitted_target[i][0]\n",
    "            idx = train_df.query('(@start <= timestamp <= @end) and meter_reading == @value and meter == @meter and building_id == @building_id', engine='python').index.tolist()\n",
    "            building_idx.extend(idx)\n",
    "            if verbose:\n",
    "                print('Length: {},\\t{}  -  {},\\tvalue: {}'.format(len(x), start, end, value))\n",
    "                \n",
    "    building_idx = pd.Int64Index(building_idx)\n",
    "    if plot:\n",
    "        fig, axes = plt.subplots(nrows=2, figsize=(16, 18), dpi=100)\n",
    "\n",
    "        temp_df.set_index('timestamp')['meter_reading'].plot(ax=axes[0])\n",
    "        # drop rows with constant value\n",
    "        temp_df.drop(building_idx, axis=0).set_index('timestamp')['meter_reading'].plot(ax=axes[1])\n",
    "\n",
    "        axes[0].set_title(f'Building {building_id} raw meter readings')\n",
    "        axes[1].set_title(f'Building {building_id} filtered meter readings')\n",
    "        \n",
    "        plt.show()\n",
    " \n",
    "    del temp_df\n",
    "    gc.collect()\n",
    "    return building_idx"
   ]
  },
  {
   "cell_type": "code",
   "execution_count": 8,
   "metadata": {},
   "outputs": [
    {
     "name": "stdout",
     "output_type": "stream",
     "text": [
      "[Site 0 - Chilled Water] Filtering leading constant values\n"
     ]
    }
   ],
   "source": [
    "print('[Site 0 - Chilled Water] Filtering leading constant values')\n",
    "site0_meter1_thresholds = {\n",
    "    50: [7, 9, 43, 75, 95, 97, 98]\n",
    "}\n",
    "\n",
    "for threshold in site0_meter1_thresholds:\n",
    "    for building_id in site0_meter1_thresholds[threshold]:\n",
    "        filtered_idx = find_constant(building_id, 1, threshold)\n",
    "        train_df.loc[filtered_idx, 'IsFiltered'] = 1"
   ]
  },
  {
   "cell_type": "markdown",
   "metadata": {},
   "source": [
    "## Site 1"
   ]
  },
  {
   "cell_type": "code",
   "execution_count": 9,
   "metadata": {},
   "outputs": [
    {
     "name": "stdout",
     "output_type": "stream",
     "text": [
      "[Site 1 - Electricity] Filtering leading constant values\n"
     ]
    }
   ],
   "source": [
    "print('[Site 1 - Electricity] Filtering leading constant values')\n",
    "site1_meter0_thresholds = {\n",
    "    20: [106],\n",
    "    50: [105, 107, 108, 109, 110, 111, 112, 113, 114, 115, 117, 119, 120, 127, 136, 137, 138, 139, 140, 141, 142, 143, 144, 145, 147, 149, 152, 155]\n",
    "}\n",
    "\n",
    "for threshold in site1_meter0_thresholds:\n",
    "    for building_id in site1_meter0_thresholds[threshold]:\n",
    "        filtered_idx = find_constant(building_id, 0, threshold)\n",
    "        train_df.loc[filtered_idx, 'IsFiltered'] = 1"
   ]
  },
  {
   "cell_type": "code",
   "execution_count": 10,
   "metadata": {},
   "outputs": [],
   "source": [
    "train_df.loc[train_df.query('building_id == 115 and meter == 0 and meter_reading < 300').index, 'IsFiltered'] = 1\n",
    "train_df.loc[train_df.query('building_id == 110 and meter == 0 and meter_reading > 500').index, 'IsFiltered'] = 1\n",
    "train_df.loc[train_df.query('building_id == 113 and meter == 0 and meter_reading > 600').index, 'IsFiltered'] = 1"
   ]
  },
  {
   "cell_type": "code",
   "execution_count": 11,
   "metadata": {},
   "outputs": [],
   "source": [
    "train_df.loc[train_df.query('building_id == 119 and meter == 3 and meter_reading > 1000').index, 'IsFiltered'] = 1\n",
    "train_df.loc[train_df.query('building_id == 121 and meter == 3 and meter_reading > 2000').index, 'IsFiltered'] = 1\n",
    "train_df.loc[train_df.query('building_id == 145 and meter == 3 and meter_reading > 600').index, 'IsFiltered'] = 1\n",
    "train_df.loc[train_df.query('building_id == 114 and meter == 3 and meter_reading > 1000').index, 'IsFiltered'] = 1\n",
    "train_df.loc[train_df.query('building_id == 144 and meter == 3 and meter_reading > 100').index, 'IsFiltered'] = 1\n",
    "train_df.loc[train_df.query('building_id == 112 and meter == 3 and meter_reading > 1000').index, 'IsFiltered'] = 1\n",
    "train_df.loc[train_df.query('building_id == 138 and meter == 3 and meter_reading > 250').index, 'IsFiltered'] = 1"
   ]
  },
  {
   "cell_type": "code",
   "execution_count": 12,
   "metadata": {},
   "outputs": [
    {
     "name": "stdout",
     "output_type": "stream",
     "text": [
      "[Site 1 - Hot Water] Filtering leading constant values\n"
     ]
    }
   ],
   "source": [
    "print('[Site 1 - Hot Water] Filtering leading constant values')\n",
    "site1_meter3_thresholds = {\n",
    "    40: [106, 109, 112, 113, 114, 117, 119, 121, 138, 139, 144, 145]    \n",
    "}\n",
    "\n",
    "for threshold in site1_meter3_thresholds:\n",
    "    for building_id in site1_meter3_thresholds[threshold]:\n",
    "        filtered_idx = find_constant(building_id, 3, threshold)\n",
    "        train_df.loc[filtered_idx, 'IsFiltered'] = 1"
   ]
  },
  {
   "cell_type": "markdown",
   "metadata": {},
   "source": [
    "## Site 2"
   ]
  },
  {
   "cell_type": "code",
   "execution_count": 13,
   "metadata": {},
   "outputs": [
    {
     "name": "stdout",
     "output_type": "stream",
     "text": [
      "[Site 2 - Electricity] Filtering leading constant values\n"
     ]
    }
   ],
   "source": [
    "print('[Site 2 - Electricity] Filtering leading constant values')\n",
    "site2_meter0_thresholds = {\n",
    "    40: [278],\n",
    "    100: [177, 258, 269],\n",
    "    1000: [180]\n",
    "}\n",
    "\n",
    "for threshold in site2_meter0_thresholds:\n",
    "    for building_id in site2_meter0_thresholds[threshold]:\n",
    "        filtered_idx = find_constant(building_id, 0, threshold)\n",
    "        train_df.loc[filtered_idx, 'IsFiltered'] = 1"
   ]
  },
  {
   "cell_type": "code",
   "execution_count": 14,
   "metadata": {},
   "outputs": [],
   "source": [
    "train_df.loc[train_df.query('building_id == 187 and meter == 1 and meter_reading > 600').index, 'IsFiltered'] = 1\n",
    "train_df.loc[train_df.query('building_id == 254 and meter == 1 and meter_reading > 1600').index, 'IsFiltered'] = 1\n",
    "train_df.loc[train_df.query('building_id == 273 and meter == 1 and meter_reading > 2600').index, 'IsFiltered'] = 1"
   ]
  },
  {
   "cell_type": "code",
   "execution_count": 15,
   "metadata": {},
   "outputs": [
    {
     "name": "stdout",
     "output_type": "stream",
     "text": [
      "[Site 2 - Chilled Water] Filtering leading constant values\n"
     ]
    }
   ],
   "source": [
    "print('[Site 2 - Chilled Water] Filtering leading constant values')\n",
    "site2_meter1_thresholds = {\n",
    "    100: [207],\n",
    "    1000: [260]\n",
    "}\n",
    "\n",
    "for threshold in site2_meter1_thresholds:\n",
    "    for building_id in site2_meter1_thresholds[threshold]:\n",
    "        filtered_idx = find_constant(building_id, 1, threshold)\n",
    "        train_df.loc[filtered_idx, 'IsFiltered'] = 1"
   ]
  },
  {
   "cell_type": "markdown",
   "metadata": {},
   "source": [
    "## Site 3"
   ]
  },
  {
   "cell_type": "code",
   "execution_count": 16,
   "metadata": {},
   "outputs": [
    {
     "name": "stdout",
     "output_type": "stream",
     "text": [
      "[Site 3 - Electricity] Filtering leading constant values\n"
     ]
    }
   ],
   "source": [
    "print('[Site 3 - Electricity] Filtering leading constant values')\n",
    "site3_meter0_thresholds = {\n",
    "    100: [545]\n",
    "}\n",
    "\n",
    "for threshold in site3_meter0_thresholds:\n",
    "    for building_id in site3_meter0_thresholds[threshold]:\n",
    "        filtered_idx = find_constant(building_id, 0, threshold)\n",
    "        train_df.loc[filtered_idx, 'IsFiltered'] = 1"
   ]
  },
  {
   "cell_type": "markdown",
   "metadata": {},
   "source": [
    "## Site 4"
   ]
  },
  {
   "cell_type": "code",
   "execution_count": 17,
   "metadata": {},
   "outputs": [
    {
     "name": "stdout",
     "output_type": "stream",
     "text": [
      "[Site 4 - Electricity] Filtering outliers\n"
     ]
    }
   ],
   "source": [
    "print('[Site 4 - Electricity] Filtering outliers')\n",
    "train_df.loc[train_df.query('building_id == 592 and meter == 0 and meter_reading < 100').index, 'IsFiltered'] = 1\n",
    "train_df.loc[train_df.query('building_id == 609 and meter == 0 and meter_reading < 300').index, 'IsFiltered'] = 1\n",
    "train_df.loc[train_df.query('building_id == 620 and meter == 0 and meter_reading < 750').index, 'IsFiltered'] = 1\n",
    "train_df.loc[train_df.query('building_id == 626 and meter == 0 and meter_reading < 10').index, 'IsFiltered'] = 1\n",
    "train_df.loc[train_df.query('building_id == 627 and meter == 0 and meter_reading < 85').index, 'IsFiltered'] = 1\n",
    "train_df.loc[train_df.query('building_id == 632 and meter == 0 and meter_reading < 30').index, 'IsFiltered'] = 1\n",
    "train_df.loc[train_df.query('building_id == 645 and meter == 0 and meter_reading < 1000').index, 'IsFiltered'] = 1\n",
    "train_df.loc[train_df.query('building_id == 654 and meter == 0 and meter_reading < 40').index, 'IsFiltered'] = 1"
   ]
  },
  {
   "cell_type": "code",
   "execution_count": 18,
   "metadata": {},
   "outputs": [
    {
     "name": "stdout",
     "output_type": "stream",
     "text": [
      "[Site 4 - Electricity] Filtering leading constant values\n"
     ]
    }
   ],
   "source": [
    "print('[Site 4 - Electricity] Filtering leading constant values')\n",
    "site4_meter0_thresholds = {\n",
    "    100: [577, 604]\n",
    "}\n",
    "\n",
    "for threshold in site4_meter0_thresholds:\n",
    "    for building_id in site4_meter0_thresholds[threshold]:\n",
    "        filtered_idx = find_constant(building_id, 0, threshold)\n",
    "        train_df.loc[filtered_idx, 'IsFiltered'] = 1"
   ]
  },
  {
   "cell_type": "markdown",
   "metadata": {},
   "source": [
    "## Site 5"
   ]
  },
  {
   "cell_type": "code",
   "execution_count": 19,
   "metadata": {},
   "outputs": [
    {
     "name": "stdout",
     "output_type": "stream",
     "text": [
      "[Site 5 - Electricity] Filtering leading constant values\n"
     ]
    }
   ],
   "source": [
    "print('[Site 5 - Electricity] Filtering leading constant values')\n",
    "site5_meter0_thresholds = {\n",
    "    100: [681, 723, 733, 739],\n",
    "    1000: [693]\n",
    "}\n",
    "\n",
    "for threshold in site5_meter0_thresholds:\n",
    "    for building_id in site5_meter0_thresholds[threshold]:\n",
    "        filtered_idx = find_constant(building_id, 0, threshold)\n",
    "        train_df.loc[filtered_idx, 'IsFiltered'] = 1"
   ]
  },
  {
   "cell_type": "code",
   "execution_count": 20,
   "metadata": {},
   "outputs": [],
   "source": [
    "train_df.loc[train_df.query('building_id == 693 and meter == 0 and meter_reading > 250').index, 'IsFiltered'] = 1"
   ]
  },
  {
   "cell_type": "markdown",
   "metadata": {},
   "source": [
    "## Site 6"
   ]
  },
  {
   "cell_type": "code",
   "execution_count": 21,
   "metadata": {},
   "outputs": [],
   "source": [
    "train_df.loc[train_df.query('building_id == 781 and meter == 0 and meter_reading < 50').index, 'IsFiltered'] = 1\n",
    "train_df.loc[train_df.query('building_id == 785 and meter == 0 and meter_reading < 200').index, 'IsFiltered'] = 1\n",
    "train_df.loc[train_df.query('building_id == 778 and meter == 0 and meter_reading < 50').index, 'IsFiltered'] = 1\n",
    "train_df.loc[train_df.query('building_id == 749 and meter == 0 and meter_reading < 10').index, 'IsFiltered'] = 1\n",
    "train_df.loc[train_df.query('building_id == 758 and meter == 0 and meter_reading < 10').index, 'IsFiltered'] = 1\n",
    "train_df.loc[train_df.query('building_id == 769 and meter == 0 and meter_reading < 10').index, 'IsFiltered'] = 1\n",
    "train_df.loc[train_df.query('building_id == 770 and meter == 0 and meter_reading < 10').index, 'IsFiltered'] = 1\n",
    "train_df.loc[train_df.query('building_id == 773 and meter == 0 and meter_reading < 10').index, 'IsFiltered'] = 1"
   ]
  },
  {
   "cell_type": "code",
   "execution_count": 22,
   "metadata": {},
   "outputs": [
    {
     "name": "stdout",
     "output_type": "stream",
     "text": [
      "[Site 6 - Chilled Water] Filtering outliers\n"
     ]
    }
   ],
   "source": [
    "print('[Site 6 - Chilled Water] Filtering outliers')\n",
    "train_df.loc[train_df.query('building_id == 745 and meter == 1 and meter_reading > 500').index, 'IsFiltered'] = 1\n",
    "train_df.loc[train_df.query('building_id == 750 and meter == 1 and meter_reading > 1500').index, 'IsFiltered'] = 1\n",
    "train_df.loc[train_df.query('building_id == 753 and meter == 1 and meter_reading > 2000').index, 'IsFiltered'] = 1\n",
    "train_df.loc[train_df.query('building_id == 755 and meter == 1 and meter_reading > 2000').index, 'IsFiltered'] = 1\n",
    "train_df.loc[train_df.query('building_id == 765 and meter == 1 and meter_reading > 2000').index, 'IsFiltered'] = 1\n",
    "train_df.loc[train_df.query('building_id == 769 and meter == 1 and meter_reading > 2000').index, 'IsFiltered'] = 1\n",
    "train_df.loc[train_df.query('building_id == 770 and meter == 1 and meter_reading > 2000').index, 'IsFiltered'] = 1\n",
    "train_df.loc[train_df.query('building_id == 771 and meter == 1 and meter_reading > 20').index, 'IsFiltered'] = 1\n",
    "train_df.loc[train_df.query('building_id == 776 and meter == 1 and meter_reading > 2000').index, 'IsFiltered'] = 1\n",
    "train_df.loc[train_df.query('building_id == 777 and meter == 1 and meter_reading > 2000').index, 'IsFiltered'] = 1\n",
    "train_df.loc[train_df.query('building_id == 780 and meter == 1 and meter_reading > 2000').index, 'IsFiltered'] = 1\n",
    "train_df.loc[train_df.query('building_id == 786 and meter == 1 and meter_reading > 7000').index, 'IsFiltered'] = 1\n",
    "train_df.loc[train_df.query('building_id == 787 and meter == 1 and meter_reading > 2000').index, 'IsFiltered'] = 1"
   ]
  },
  {
   "cell_type": "code",
   "execution_count": 23,
   "metadata": {},
   "outputs": [
    {
     "name": "stdout",
     "output_type": "stream",
     "text": [
      "[Site 6 - Chilled Water] Filtering leading constant values\n"
     ]
    }
   ],
   "source": [
    "print('[Site 6 - Chilled Water] Filtering leading constant values')\n",
    "site6_meter1_thresholds = {\n",
    "    100: [748, 750, 752, 763, 767, 776, 786]\n",
    "}\n",
    "\n",
    "for threshold in site6_meter1_thresholds:\n",
    "    for building_id in site6_meter1_thresholds[threshold]:\n",
    "        filtered_idx = find_constant(building_id, 1, threshold)\n",
    "        train_df.loc[filtered_idx, 'IsFiltered'] = 1"
   ]
  },
  {
   "cell_type": "code",
   "execution_count": 24,
   "metadata": {},
   "outputs": [],
   "source": [
    "train_df.loc[train_df.query('building_id == 745 and meter == 2 and meter_reading < 2000').index, 'IsFiltered'] = 1\n",
    "train_df.loc[train_df.query('building_id == 776 and meter == 2 and meter_reading > 2000').index, 'IsFiltered'] = 1\n",
    "train_df.loc[train_df.query('building_id == 769 and meter == 2 and meter_reading > 2000').index, 'IsFiltered'] = 1\n",
    "train_df.loc[train_df.query('building_id == 764 and meter == 2 and meter_reading < 500').index, 'IsFiltered'] = 1\n",
    "train_df.loc[train_df.query('building_id == 762 and meter == 2 and meter_reading > 500').index, 'IsFiltered'] = 1\n",
    "train_df.loc[train_df.query('building_id == 766 and meter == 2 and meter_reading > 8000').index, 'IsFiltered'] = 1"
   ]
  },
  {
   "cell_type": "code",
   "execution_count": 25,
   "metadata": {},
   "outputs": [
    {
     "name": "stdout",
     "output_type": "stream",
     "text": [
      "[Site 6 - Steam] Filtering leading constant values\n"
     ]
    }
   ],
   "source": [
    "print('[Site 6 - Steam] Filtering leading constant values')\n",
    "site6_meter2_thresholds = {\n",
    "    150: [750, 751, 753, 770, 766],\n",
    "    500: [774]\n",
    "}\n",
    "\n",
    "for threshold in site6_meter2_thresholds:\n",
    "    for building_id in site6_meter2_thresholds[threshold]:\n",
    "        filtered_idx = find_constant(building_id, 2, threshold)\n",
    "        train_df.loc[filtered_idx, 'IsFiltered'] = 1"
   ]
  },
  {
   "cell_type": "markdown",
   "metadata": {},
   "source": [
    "## Site 7"
   ]
  },
  {
   "cell_type": "code",
   "execution_count": 26,
   "metadata": {},
   "outputs": [
    {
     "name": "stdout",
     "output_type": "stream",
     "text": [
      "[Site 7 - Electricity] Filtering outliers\n",
      "[Site 7 - Electricity] Filtering leading constant values\n"
     ]
    }
   ],
   "source": [
    "print('[Site 7 - Electricity] Filtering outliers')\n",
    "train_df.loc[train_df.query('building_id == 800 and meter == 0 and meter_reading < 75').index, 'IsFiltered'] = 1\n",
    "train_df.loc[train_df.query('building_id == 801 and meter == 0 and meter_reading < 3000').index, 'IsFiltered'] = 1\n",
    "\n",
    "print('[Site 7 - Electricity] Filtering leading constant values')\n",
    "site7_meter0_thresholds = {\n",
    "    100: [799, 800, 802]\n",
    "}\n",
    "\n",
    "for threshold in site7_meter0_thresholds:\n",
    "    for building_id in site7_meter0_thresholds[threshold]:\n",
    "        filtered_idx = find_constant(building_id, 0, threshold)\n",
    "        train_df.loc[filtered_idx, 'IsFiltered'] = 1"
   ]
  },
  {
   "cell_type": "code",
   "execution_count": 27,
   "metadata": {},
   "outputs": [
    {
     "name": "stdout",
     "output_type": "stream",
     "text": [
      "[Site 7 - Chilled Water] Filtering leading constant values\n"
     ]
    }
   ],
   "source": [
    "print('[Site 7 - Chilled Water] Filtering leading constant values')\n",
    "site7_meter1_thresholds = {\n",
    "    50: [789, 790, 792]\n",
    "}\n",
    "\n",
    "for threshold in site7_meter1_thresholds:\n",
    "    for building_id in site7_meter1_thresholds[threshold]:\n",
    "        filtered_idx = find_constant(building_id, 1, threshold)\n",
    "        train_df.loc[filtered_idx, 'IsFiltered'] = 1"
   ]
  },
  {
   "cell_type": "code",
   "execution_count": 28,
   "metadata": {},
   "outputs": [
    {
     "name": "stdout",
     "output_type": "stream",
     "text": [
      "[Site 7 - Steam] Filtering outliers\n"
     ]
    }
   ],
   "source": [
    "print('[Site 7 - Steam] Filtering outliers')\n",
    "train_df.loc[train_df.query('building_id == 797 and meter == 2 and meter_reading > 8000').index, 'IsFiltered'] = 1\n",
    "train_df.loc[train_df.query('building_id == 800 and meter == 2 and meter_reading == 0').index, 'IsFiltered'] = 1\n",
    "train_df.loc[train_df.query('building_id == 803 and meter == 2 and meter_reading == 0').index, 'IsFiltered'] = 1"
   ]
  },
  {
   "cell_type": "code",
   "execution_count": 29,
   "metadata": {},
   "outputs": [
    {
     "name": "stdout",
     "output_type": "stream",
     "text": [
      "[Site 7 - Steam] Filtering leading constant values\n"
     ]
    }
   ],
   "source": [
    "print('[Site 7 - Steam] Filtering leading constant values')\n",
    "site7_meter2_thresholds = {\n",
    "    100: [800]\n",
    "}\n",
    "\n",
    "for threshold in site7_meter2_thresholds:\n",
    "    for building_id in site7_meter2_thresholds[threshold]:\n",
    "        filtered_idx = find_constant(building_id, 2, threshold)\n",
    "        train_df.loc[filtered_idx, 'IsFiltered'] = 1"
   ]
  },
  {
   "cell_type": "markdown",
   "metadata": {},
   "source": [
    "## Site 8"
   ]
  },
  {
   "cell_type": "code",
   "execution_count": 30,
   "metadata": {},
   "outputs": [
    {
     "name": "stdout",
     "output_type": "stream",
     "text": [
      "[Site 8 - Electricity] Filtering outliers\n",
      "[Site 8 - Electricity] Filtering leading constant values\n"
     ]
    }
   ],
   "source": [
    "print('[Site 8 - Electricity] Filtering outliers')\n",
    "train_df.loc[train_df.query('building_id == 857 and meter == 0 and meter_reading > 10').index, 'IsFiltered'] = 1\n",
    "\n",
    "print('[Site 8 - Electricity] Filtering leading constant values')\n",
    "site8_meter0_thresholds = {\n",
    "    1000: [815, 848]\n",
    "}\n",
    "\n",
    "for threshold in site8_meter0_thresholds:\n",
    "    for building_id in site8_meter0_thresholds[threshold]:\n",
    "        filtered_idx = find_constant(building_id, 0, threshold)\n",
    "        train_df.loc[filtered_idx, 'IsFiltered'] = 1"
   ]
  },
  {
   "cell_type": "markdown",
   "metadata": {},
   "source": [
    "## Site 9"
   ]
  },
  {
   "cell_type": "code",
   "execution_count": 31,
   "metadata": {},
   "outputs": [
    {
     "name": "stdout",
     "output_type": "stream",
     "text": [
      "[Site 9 - Electricity] Filtering outliers\n"
     ]
    }
   ],
   "source": [
    "print('[Site 9 - Electricity] Filtering outliers')\n",
    "train_df.loc[train_df.query('building_id == 886 and meter == 0 and meter_reading > 2000').index, 'IsFiltered'] = 1\n",
    "train_df.loc[train_df.query('building_id == 904 and meter == 0 and meter_reading > 2000').index, 'IsFiltered'] = 1\n",
    "train_df.loc[train_df.query('building_id == 921 and meter == 0 and meter_reading > 2000').index, 'IsFiltered'] = 1\n",
    "train_df.loc[train_df.query('building_id == 927 and meter == 0 and meter_reading > 3000').index, 'IsFiltered'] = 1\n",
    "train_df.loc[train_df.query('building_id == 949 and meter == 0 and meter_reading > 600').index, 'IsFiltered'] = 1\n",
    "train_df.loc[train_df.query('building_id == 954 and meter == 0 and meter_reading > 6000').index, 'IsFiltered'] = 1\n",
    "train_df.loc[train_df.query('building_id == 955 and meter == 0 and meter_reading > 4000').index, 'IsFiltered'] = 1\n",
    "train_df.loc[train_df.query('building_id == 956 and meter == 0 and meter_reading > 200').index, 'IsFiltered'] = 1\n",
    "train_df.loc[train_df.query('building_id == 961 and meter == 0 and meter_reading > 1500').index, 'IsFiltered'] = 1\n",
    "train_df.loc[train_df.query('building_id == 962 and meter == 0 and meter_reading > 2000').index, 'IsFiltered'] = 1\n",
    "train_df.loc[train_df.query('building_id == 966 and meter == 0 and meter_reading > 3000').index, 'IsFiltered'] = 1\n",
    "train_df.loc[train_df.query('building_id == 977 and meter == 0 and meter_reading > 1000').index, 'IsFiltered'] = 1\n",
    "train_df.loc[train_df.query('building_id == 983 and meter == 0 and meter_reading > 2000').index, 'IsFiltered'] = 1\n",
    "train_df.loc[train_df.query('building_id == 986 and meter == 0 and meter_reading > 500').index, 'IsFiltered'] = 1\n",
    "train_df.loc[train_df.query('building_id == 990 and meter == 0 and meter_reading > 1000').index, 'IsFiltered'] = 1\n",
    "train_df.loc[train_df.query('building_id == 993 and meter == 0 and meter_reading > 6000').index, 'IsFiltered'] = 1\n",
    "train_df.loc[train_df.query('building_id == 997 and meter == 0 and meter_reading > 500').index, 'IsFiltered'] = 1"
   ]
  },
  {
   "cell_type": "code",
   "execution_count": 32,
   "metadata": {},
   "outputs": [
    {
     "name": "stdout",
     "output_type": "stream",
     "text": [
      "[Site 9 - Electricity] Filtering leading constant values\n"
     ]
    }
   ],
   "source": [
    "print('[Site 9 - Electricity] Filtering leading constant values')\n",
    "site9_meter0_thresholds = {\n",
    "    40: [897],\n",
    "    50: [874, 875, 876, 877, 878, 879, 880, 881, 882, 883, 884, 885, 886, 887, 888, 889, 890, 891, 892, 893, 894, 895, 896, 898, 899,\n",
    "         900, 901, 902, 903, 904, 905, 906, 907, 908, 910, 911, 912, 913, 914, 915, 916, 917, 918, 919, 920, 921, 922, 923, 924, 925,\n",
    "         926, 927, 928, 929, 930, 931, 932, 935, 936, 937, 938, 939, 940, 941, 942, 943, 944, 945, 946, 947, 948, 949, 950, 951, 952,\n",
    "         953, 954, 955, 956, 957, 958, 959, 960, 961, 962, 963, 964, 965, 966, 967, 968, 969, 970, 971, 972, 973, 974, 975, 976, 977,\n",
    "         978, 979, 980, 981, 982, 983, 984, 985, 986, 987, 988, 989, 990, 991, 992, 993, 994, 995, 996, 997],\n",
    "    100: [909],\n",
    "}\n",
    "\n",
    "for threshold in site9_meter0_thresholds:\n",
    "    for building_id in site9_meter0_thresholds[threshold]:\n",
    "        filtered_idx = find_constant(building_id, 0, threshold)\n",
    "        train_df.loc[filtered_idx, 'IsFiltered'] = 1"
   ]
  },
  {
   "cell_type": "code",
   "execution_count": 33,
   "metadata": {},
   "outputs": [
    {
     "name": "stdout",
     "output_type": "stream",
     "text": [
      "[Site 9 - Chilled Water] Filtering outliers\n"
     ]
    }
   ],
   "source": [
    "print('[Site 9 - Chilled Water] Filtering outliers')\n",
    "train_df.loc[train_df.query('building_id == 879 and meter == 1 and meter_reading > 8000').index, 'IsFiltered'] = 1\n",
    "train_df.loc[train_df.query('building_id == 880 and meter == 1 and meter_reading > 8000').index, 'IsFiltered'] = 1\n",
    "train_df.loc[train_df.query('building_id == 885 and meter == 1 and meter_reading > 2000').index, 'IsFiltered'] = 1\n",
    "train_df.loc[train_df.query('building_id == 891 and meter == 1 and meter_reading > 1000').index, 'IsFiltered'] = 1\n",
    "train_df.loc[train_df.query('building_id == 900 and meter == 1 and meter_reading > 5000').index, 'IsFiltered'] = 1\n",
    "train_df.loc[train_df.query('building_id == 903 and meter == 1 and meter_reading > 20000').index, 'IsFiltered'] = 1\n",
    "train_df.loc[train_df.query('building_id == 906 and meter == 1 and meter_reading > 2000').index, 'IsFiltered'] = 1\n",
    "train_df.loc[train_df.query('building_id == 907 and meter == 1 and meter_reading > 2000').index, 'IsFiltered'] = 1\n",
    "train_df.loc[train_df.query('building_id == 908 and meter == 1 and meter_reading > 2500').index, 'IsFiltered'] = 1\n",
    "train_df.loc[train_df.query('building_id == 910 and meter == 1 and meter_reading > 4000').index, 'IsFiltered'] = 1\n",
    "train_df.loc[train_df.query('building_id == 920 and meter == 1 and meter_reading > 4000').index, 'IsFiltered'] = 1\n",
    "train_df.loc[train_df.query('building_id == 923 and meter == 1 and meter_reading > 1500').index, 'IsFiltered'] = 1\n",
    "train_df.loc[train_df.query('building_id == 925 and meter == 1 and meter_reading > 1000').index, 'IsFiltered'] = 1\n",
    "train_df.loc[train_df.query('building_id == 926 and meter == 1 and meter_reading > 500').index, 'IsFiltered'] = 1\n",
    "train_df.loc[train_df.query('building_id == 927 and meter == 1 and meter_reading > 5000').index, 'IsFiltered'] = 1\n",
    "train_df.loc[train_df.query('building_id == 929 and meter == 1 and meter_reading > 2000').index, 'IsFiltered'] = 1\n",
    "train_df.loc[train_df.query('building_id == 931 and meter == 1 and meter_reading > 6000').index, 'IsFiltered'] = 1\n",
    "train_df.loc[train_df.query('building_id == 934 and meter == 1 and meter_reading > 2500').index, 'IsFiltered'] = 1\n",
    "train_df.loc[train_df.query('building_id == 946 and meter == 1 and meter_reading > 10000').index, 'IsFiltered'] = 1\n",
    "train_df.loc[train_df.query('building_id == 948 and meter == 1 and meter_reading > 1000').index, 'IsFiltered'] = 1\n",
    "train_df.loc[train_df.query('building_id == 949 and meter == 1 and meter_reading > 2000').index, 'IsFiltered'] = 1\n",
    "train_df.loc[train_df.query('building_id == 954 and meter == 1 and meter_reading > 50000').index, 'IsFiltered'] = 1\n",
    "train_df.loc[train_df.query('building_id == 955 and meter == 1 and meter_reading > 10000').index, 'IsFiltered'] = 1\n",
    "train_df.loc[train_df.query('building_id == 956 and meter == 1 and meter_reading > 2000').index, 'IsFiltered'] = 1\n",
    "train_df.loc[train_df.query('building_id == 957 and meter == 1 and meter_reading > 3000').index, 'IsFiltered'] = 1\n",
    "train_df.loc[train_df.query('building_id == 961 and meter == 1 and meter_reading > 8000').index, 'IsFiltered'] = 1\n",
    "train_df.loc[train_df.query('building_id == 963 and meter == 1 and meter_reading > 2000').index, 'IsFiltered'] = 1\n",
    "train_df.loc[train_df.query('building_id == 964 and meter == 1 and meter_reading > 5000').index, 'IsFiltered'] = 1\n",
    "train_df.loc[train_df.query('building_id == 965 and meter == 1 and meter_reading > 1000').index, 'IsFiltered'] = 1\n",
    "train_df.loc[train_df.query('building_id == 967 and meter == 1 and meter_reading > 1750').index, 'IsFiltered'] = 1\n",
    "train_df.loc[train_df.query('building_id == 969 and meter == 1 and meter_reading > 2000').index, 'IsFiltered'] = 1\n",
    "train_df.loc[train_df.query('building_id == 973 and meter == 1 and meter_reading > 2500').index, 'IsFiltered'] = 1\n",
    "train_df.loc[train_df.query('building_id == 976 and meter == 1 and meter_reading > 1000').index, 'IsFiltered'] = 1\n",
    "train_df.loc[train_df.query('building_id == 978 and meter == 1 and meter_reading > 4000').index, 'IsFiltered'] = 1\n",
    "train_df.loc[train_df.query('building_id == 983 and meter == 1 and meter_reading > 3800').index, 'IsFiltered'] = 1\n",
    "train_df.loc[train_df.query('building_id == 989 and meter == 1 and meter_reading > 3000').index, 'IsFiltered'] = 1\n",
    "train_df.loc[train_df.query('building_id == 990 and meter == 1 and meter_reading > 2000').index, 'IsFiltered'] = 1\n",
    "train_df.loc[train_df.query('building_id == 993 and meter == 1 and meter_reading > 10000').index, 'IsFiltered'] = 1\n",
    "train_df.loc[train_df.query('building_id == 994 and meter == 1 and meter_reading > 2500').index, 'IsFiltered'] = 1\n",
    "train_df.loc[train_df.query('building_id == 996 and meter == 1 and meter_reading > 2000').index, 'IsFiltered'] = 1"
   ]
  },
  {
   "cell_type": "code",
   "execution_count": 34,
   "metadata": {},
   "outputs": [
    {
     "name": "stdout",
     "output_type": "stream",
     "text": [
      "[Site 9 - Chilled Water] Filtering leading constant values\n"
     ]
    }
   ],
   "source": [
    "print('[Site 9 - Chilled Water] Filtering leading constant values')\n",
    "site9_meter1_thresholds = {\n",
    "    50: [874, 875, 879, 880, 883, 885, 886, 887, 888, 889, 890, 891, 893, 894, 895, 896, 898, 899, 900, 901, 903, 905, 906, 907, 908,\n",
    "         910, 911, 912, 913, 914, 915, 916, 917, 918, 920, 921, 922, 923, 924, 925, 926, 927, 928, 929, 931, 932, 933, 934, 935, 942,\n",
    "         945, 946, 948, 949, 951, 952, 953, 954, 955, 956, 957, 958, 959, 960, 961, 962, 963, 964, 965, 966, 967, 968, 969, 971, 972,\n",
    "         973, 974, 975, 976, 978, 979, 980, 981, 983, 987, 989, 990, 991, 992, 993, 994, 995, 996, 997]\n",
    "}\n",
    "\n",
    "for threshold in site9_meter1_thresholds:\n",
    "    for building_id in site9_meter1_thresholds[threshold]:\n",
    "        filtered_idx = find_constant(building_id, 1, threshold)\n",
    "        train_df.loc[filtered_idx, 'IsFiltered'] = 1"
   ]
  },
  {
   "cell_type": "code",
   "execution_count": 35,
   "metadata": {},
   "outputs": [
    {
     "name": "stdout",
     "output_type": "stream",
     "text": [
      "[Site 9 - Steam] Filtering outliers\n"
     ]
    }
   ],
   "source": [
    "print('[Site 9 - Steam] Filtering outliers')\n",
    "train_df.loc[train_df.query('building_id == 875 and meter == 2 and meter_reading > 1000').index, 'IsFiltered'] = 1\n",
    "train_df.loc[train_df.query('building_id == 876 and meter == 2 and meter_reading > 800').index, 'IsFiltered'] = 1\n",
    "train_df.loc[train_df.query('building_id == 878 and meter == 2 and meter_reading > 200').index, 'IsFiltered'] = 1\n",
    "train_df.loc[train_df.query('building_id == 879 and meter == 2 and meter_reading > 3000').index, 'IsFiltered'] = 1\n",
    "train_df.loc[train_df.query('building_id == 880 and meter == 2 and meter_reading > 1200').index, 'IsFiltered'] = 1\n",
    "train_df.loc[train_df.query('building_id == 880 and meter == 2 and meter_reading > 600 and (\"2016-06-01\" < timestamp < \"2016-11-01\")').index, 'IsFiltered'] = 1\n",
    "train_df.loc[train_df.query('building_id == 885 and meter == 2 and meter_reading > 250').index, 'IsFiltered'] = 1\n",
    "train_df.loc[train_df.query('building_id == 886 and meter == 2 and meter_reading > 1000').index, 'IsFiltered'] = 1\n",
    "train_df.loc[train_df.query('building_id == 886 and meter == 2 and meter_reading > 300 and (\"2016-07-01\" < timestamp < \"2016-11-01\")').index, 'IsFiltered'] = 1\n",
    "train_df.loc[train_df.query('building_id == 887 and meter == 2 and meter_reading > 325').index, 'IsFiltered'] = 1\n",
    "train_df.loc[train_df.query('building_id == 888 and meter == 2 and meter_reading > 2000').index, 'IsFiltered'] = 1\n",
    "train_df.loc[train_df.query('building_id == 889 and meter == 2 and meter_reading > 500').index, 'IsFiltered'] = 1\n",
    "train_df.loc[train_df.query('building_id == 890 and meter == 2 and meter_reading > 2000').index, 'IsFiltered'] = 1\n",
    "train_df.loc[train_df.query('building_id == 894 and meter == 2 and meter_reading > 500').index, 'IsFiltered'] = 1\n",
    "train_df.loc[train_df.query('building_id == 895 and meter == 2 and meter_reading > 400').index, 'IsFiltered'] = 1\n",
    "train_df.loc[train_df.query('building_id == 896 and meter == 2 and meter_reading > 1000').index, 'IsFiltered'] = 1\n",
    "train_df.loc[train_df.query('building_id == 896 and meter == 2 and meter_reading > 400 and (\"2016-07-01\" < timestamp < \"2016-11-01\")').index, 'IsFiltered'] = 1\n",
    "train_df.loc[train_df.query('building_id == 898 and meter == 2 and meter_reading > 150 and (\"2016-07-01\" < timestamp < \"2016-11-01\")').index, 'IsFiltered'] = 1\n",
    "train_df.loc[train_df.query('building_id == 898 and meter == 2 and meter_reading > 1500').index, 'IsFiltered'] = 1\n",
    "train_df.loc[train_df.query('building_id == 899 and meter == 2 and meter_reading > 1500').index, 'IsFiltered'] = 1\n",
    "train_df.loc[train_df.query('building_id == 899 and meter == 2 and meter_reading > 800 and (\"2016-07-01\" < timestamp < \"2016-11-01\")').index, 'IsFiltered'] = 1\n",
    "train_df.loc[train_df.query('building_id == 900 and meter == 2 and meter_reading > 800').index, 'IsFiltered'] = 1\n",
    "train_df.loc[train_df.query('building_id == 901 and meter == 2 and meter_reading > 1000').index, 'IsFiltered'] = 1\n",
    "train_df.loc[train_df.query('building_id == 903 and meter == 2 and meter_reading > 2400').index, 'IsFiltered'] = 1\n",
    "train_df.loc[train_df.query('building_id == 905 and meter == 2 and meter_reading > 140').index, 'IsFiltered'] = 1\n",
    "train_df.loc[train_df.query('building_id == 906 and meter == 2 and meter_reading > 400').index, 'IsFiltered'] = 1\n",
    "train_df.loc[train_df.query('building_id == 907 and meter == 2 and meter_reading > 300').index, 'IsFiltered'] = 1\n",
    "train_df.loc[train_df.query('building_id == 907 and meter == 2 and meter_reading > 200 and (\"2016-07-01\" < timestamp < \"2016-08-01\")').index, 'IsFiltered'] = 1\n",
    "train_df.loc[train_df.query('building_id == 908 and meter == 2 and meter_reading > 1000').index, 'IsFiltered'] = 1\n",
    "train_df.loc[train_df.query('building_id == 908 and meter == 2 and meter_reading > 300 and (\"2016-07-01\" < timestamp < \"2016-11-01\")').index, 'IsFiltered'] = 1\n",
    "train_df.loc[train_df.query('building_id == 910 and meter == 2 and meter_reading > 300 and (\"2016-07-01\" < timestamp < \"2016-11-01\")').index, 'IsFiltered'] = 1\n",
    "train_df.loc[train_df.query('building_id == 911 and meter == 2 and meter_reading > 1250').index, 'IsFiltered'] = 1\n",
    "train_df.loc[train_df.query('building_id == 912 and meter == 2 and meter_reading > 120').index, 'IsFiltered'] = 1\n",
    "train_df.loc[train_df.query('building_id == 912 and meter == 2 and meter_reading > 90 and (\"2016-07-01\" < timestamp < \"2016-11-01\")').index, 'IsFiltered'] = 1\n",
    "train_df.loc[train_df.query('building_id == 913 and meter == 2 and meter_reading > 2000').index, 'IsFiltered'] = 1\n",
    "train_df.loc[train_df.query('building_id == 914 and meter == 2 and meter_reading > 800').index, 'IsFiltered'] = 1\n",
    "train_df.loc[train_df.query('building_id == 915 and meter == 2 and meter_reading > 750').index, 'IsFiltered'] = 1\n",
    "train_df.loc[train_df.query('building_id == 915 and meter == 2 and meter_reading > 185 and (\"2016-07-01\" < timestamp < \"2016-11-01\")').index, 'IsFiltered'] = 1\n",
    "train_df.loc[train_df.query('building_id == 916 and meter == 2 and meter_reading > 200').index, 'IsFiltered'] = 1\n",
    "train_df.loc[train_df.query('building_id == 917 and meter == 2 and meter_reading > 1500').index, 'IsFiltered'] = 1\n",
    "train_df.loc[train_df.query('building_id == 918 and meter == 2 and meter_reading > 300').index, 'IsFiltered'] = 1\n",
    "train_df.loc[train_df.query('building_id == 920 and meter == 2 and meter_reading > 490').index, 'IsFiltered'] = 1\n",
    "train_df.loc[train_df.query('building_id == 921 and meter == 2 and meter_reading > 1500').index, 'IsFiltered'] = 1\n",
    "train_df.loc[train_df.query('building_id == 922 and meter == 2 and meter_reading > 600').index, 'IsFiltered'] = 1\n",
    "train_df.loc[train_df.query('building_id == 922 and meter == 2 and meter_reading > 200 and (\"2016-07-01\" < timestamp < \"2016-11-01\")').index, 'IsFiltered'] = 1\n",
    "train_df.loc[train_df.query('building_id == 924 and meter == 2 and meter_reading > 3000').index, 'IsFiltered'] = 1\n",
    "train_df.loc[train_df.query('building_id == 926 and meter == 2 and meter_reading > 200').index, 'IsFiltered'] = 1\n",
    "train_df.loc[train_df.query('building_id == 926 and meter == 2 and meter_reading > 70 and (\"2016-07-01\" < timestamp < \"2016-11-01\")').index, 'IsFiltered'] = 1\n",
    "train_df.loc[train_df.query('building_id == 927 and meter == 2 and meter_reading > 4000').index, 'IsFiltered'] = 1\n",
    "train_df.loc[train_df.query('building_id == 928 and meter == 2 and meter_reading > 1250').index, 'IsFiltered'] = 1\n",
    "train_df.loc[train_df.query('building_id == 929 and meter == 2 and meter_reading > 600').index, 'IsFiltered'] = 1\n",
    "train_df.loc[train_df.query('building_id == 931 and meter == 2 and meter_reading > 1000').index, 'IsFiltered'] = 1\n",
    "train_df.loc[train_df.query('building_id == 931 and meter == 2 and meter_reading > 400 and (\"2016-07-01\" < timestamp < \"2016-11-01\")').index, 'IsFiltered'] = 1\n",
    "train_df.loc[train_df.query('building_id == 932 and meter == 2 and meter_reading > 1750').index, 'IsFiltered'] = 1\n",
    "train_df.loc[train_df.query('building_id == 933 and meter == 2 and meter_reading > 75').index, 'IsFiltered'] = 1\n",
    "train_df.loc[train_df.query('building_id == 934 and meter == 2 and meter_reading > 500').index, 'IsFiltered'] = 1\n",
    "train_df.loc[train_df.query('building_id == 942 and meter == 2 and meter_reading > 600').index, 'IsFiltered'] = 1\n",
    "train_df.loc[train_df.query('building_id == 945 and meter == 2 and meter_reading > 1200').index, 'IsFiltered'] = 1\n",
    "train_df.loc[train_df.query('building_id == 946 and meter == 2 and meter_reading > 1200').index, 'IsFiltered'] = 1\n",
    "train_df.loc[train_df.query('building_id == 948 and meter == 2 and meter_reading > 120').index, 'IsFiltered'] = 1\n",
    "train_df.loc[train_df.query('building_id == 949 and meter == 2 and meter_reading > 500').index, 'IsFiltered'] = 1\n",
    "train_df.loc[train_df.query('building_id == 951 and meter == 2 and meter_reading > 800').index, 'IsFiltered'] = 1\n",
    "train_df.loc[train_df.query('building_id == 952 and meter == 2 and meter_reading > 1600').index, 'IsFiltered'] = 1\n",
    "train_df.loc[train_df.query('building_id == 953 and meter == 2 and meter_reading > 1250').index, 'IsFiltered'] = 1\n",
    "train_df.loc[train_df.query('building_id == 954 and meter == 2 and meter_reading > 10000').index, 'IsFiltered'] = 1\n",
    "train_df.loc[train_df.query('building_id == 955 and meter == 2 and meter_reading > 1750').index, 'IsFiltered'] = 1\n",
    "train_df.loc[train_df.query('building_id == 956 and meter == 2 and meter_reading > 350').index, 'IsFiltered'] = 1\n",
    "train_df.loc[train_df.query('building_id == 957 and meter == 2 and meter_reading > 1200').index, 'IsFiltered'] = 1\n",
    "train_df.loc[train_df.query('building_id == 957 and meter == 2 and meter_reading > 350 and (\"2016-07-01\" < timestamp < \"2016-11-01\")').index, 'IsFiltered'] = 1\n",
    "train_df.loc[train_df.query('building_id == 958 and meter == 2 and meter_reading > 1200').index, 'IsFiltered'] = 1\n",
    "train_df.loc[train_df.query('building_id == 959 and meter == 2 and meter_reading > 2500').index, 'IsFiltered'] = 1\n",
    "train_df.loc[train_df.query('building_id == 960 and meter == 2 and meter_reading > 350').index, 'IsFiltered'] = 1\n",
    "train_df.loc[train_df.query('building_id == 960 and meter == 2 and meter_reading > 100 and (\"2016-07-01\" < timestamp < \"2016-11-01\")').index, 'IsFiltered'] = 1\n",
    "train_df.loc[train_df.query('building_id == 961 and meter == 2 and meter_reading > 2000').index, 'IsFiltered'] = 1\n",
    "train_df.loc[train_df.query('building_id == 963 and meter == 2 and meter_reading > 200').index, 'IsFiltered'] = 1\n",
    "train_df.loc[train_df.query('building_id == 964 and meter == 2 and meter_reading > 1000').index, 'IsFiltered'] = 1\n",
    "train_df.loc[train_df.query('building_id == 965 and meter == 2 and meter_reading > 200').index, 'IsFiltered'] = 1\n",
    "train_df.loc[train_df.query('building_id == 966 and meter == 2 and meter_reading > 1750').index, 'IsFiltered'] = 1\n",
    "train_df.loc[train_df.query('building_id == 966 and meter == 2 and meter_reading > 500 and (\"2016-07-01\" < timestamp < \"2016-08-01\")').index, 'IsFiltered'] = 1\n",
    "train_df.loc[train_df.query('building_id == 967 and meter == 2 and meter_reading > 575').index, 'IsFiltered'] = 1\n",
    "train_df.loc[train_df.query('building_id == 968 and meter == 2 and meter_reading > 800').index, 'IsFiltered'] = 1\n",
    "train_df.loc[train_df.query('building_id == 969 and meter == 2 and meter_reading > 700').index, 'IsFiltered'] = 1\n",
    "train_df.loc[train_df.query('building_id == 969 and meter == 2 and meter_reading > 400 and (\"2016-07-01\" < timestamp < \"2016-08-01\")').index, 'IsFiltered'] = 1\n",
    "train_df.loc[train_df.query('building_id == 971 and meter == 2 and meter_reading > 800').index, 'IsFiltered'] = 1\n",
    "train_df.loc[train_df.query('building_id == 972 and meter == 2 and meter_reading > 1500').index, 'IsFiltered'] = 1\n",
    "train_df.loc[train_df.query('building_id == 973 and meter == 2 and meter_reading > 450').index, 'IsFiltered'] = 1\n",
    "train_df.loc[train_df.query('building_id == 974 and meter == 2 and meter_reading > 800').index, 'IsFiltered'] = 1\n",
    "train_df.loc[train_df.query('building_id == 976 and meter == 2 and meter_reading > 60').index, 'IsFiltered'] = 1\n",
    "train_df.loc[train_df.query('building_id == 978 and meter == 2 and meter_reading > 2000').index, 'IsFiltered'] = 1\n",
    "train_df.loc[train_df.query('building_id == 978 and meter == 2 and meter_reading > 1250 and (\"2016-07-01\" < timestamp < \"2016-08-01\")').index, 'IsFiltered'] = 1\n",
    "train_df.loc[train_df.query('building_id == 980 and meter == 2 and meter_reading > 150').index, 'IsFiltered'] = 1\n",
    "train_df.loc[train_df.query('building_id == 981 and meter == 2 and meter_reading > 400').index, 'IsFiltered'] = 1\n",
    "train_df.loc[train_df.query('building_id == 983 and meter == 2 and meter_reading > 3000').index, 'IsFiltered'] = 1\n",
    "train_df.loc[train_df.query('building_id == 983 and meter == 2 and meter_reading > 1750 and (\"2016-05-01\" < timestamp < \"2016-08-01\")').index, 'IsFiltered'] = 1\n",
    "train_df.loc[train_df.query('building_id == 987 and meter == 2 and meter_reading > 1000').index, 'IsFiltered'] = 1\n",
    "train_df.loc[train_df.query('building_id == 989 and meter == 2 and meter_reading > 400').index, 'IsFiltered'] = 1\n",
    "train_df.loc[train_df.query('building_id == 991 and meter == 2 and meter_reading > 400').index, 'IsFiltered'] = 1\n",
    "train_df.loc[train_df.query('building_id == 991 and meter == 2 and meter_reading > 200 and (\"2016-06-01\" < timestamp < \"2016-08-01\")').index, 'IsFiltered'] = 1\n",
    "train_df.loc[train_df.query('building_id == 992 and meter == 2 and meter_reading > 600').index, 'IsFiltered'] = 1\n",
    "train_df.loc[train_df.query('building_id == 993 and meter == 2 and meter_reading > 6000').index, 'IsFiltered'] = 1\n",
    "train_df.loc[train_df.query('building_id == 994 and meter == 2 and meter_reading > 600').index, 'IsFiltered'] = 1\n",
    "train_df.loc[train_df.query('building_id == 995 and meter == 2 and meter_reading > 200').index, 'IsFiltered'] = 1\n",
    "train_df.loc[train_df.query('building_id == 996 and meter == 2 and meter_reading > 260').index, 'IsFiltered'] = 1\n",
    "train_df.loc[train_df.query('building_id == 997 and meter == 2 and meter_reading > 300').index, 'IsFiltered'] = 1\n",
    "train_df.drop(train_df.query('IsFiltered == 1').index, inplace=True)"
   ]
  },
  {
   "cell_type": "code",
   "execution_count": 36,
   "metadata": {},
   "outputs": [
    {
     "name": "stdout",
     "output_type": "stream",
     "text": [
      "[Site 9 - Steam] Filtering leading constant values\n"
     ]
    }
   ],
   "source": [
    "print('[Site 9 - Steam] Filtering leading constant values')\n",
    "site9_meter2_thresholds = {\n",
    "    40: [889, 910, 934, 955, 962, 974, 976],\n",
    "    50: [874, 875, 876, 878, 879, 880, 885, 886, 887, 888, 890, 894, 895, 896, 898, 901, 903, 905, 906, 907, 908, 911, 912, 913, 914, 915, 916, 917, 918, 920, 921,\n",
    "         922, 924, 925, 926, 927, 928, 929, 931, 932, 933, 942, 945, 946, 948, 949, 951, 952, 953, 954, 956, 957, 958, 959, 960, 961, 963, 964, 965, 966, 967, 968, \n",
    "         969, 971, 972, 973, 978, 979, 980, 981, 983, 987, 989, 991, 992, 993, 994, 995, 996, 997]\n",
    "}\n",
    "\n",
    "for threshold in site9_meter2_thresholds:\n",
    "    for building_id in site9_meter2_thresholds[threshold]:\n",
    "        filtered_idx = find_constant(building_id, 2, threshold)\n",
    "        train_df.loc[filtered_idx, 'IsFiltered'] = 1"
   ]
  },
  {
   "cell_type": "code",
   "execution_count": 37,
   "metadata": {},
   "outputs": [],
   "source": [
    "train_df.loc[train_df.query('building_id == 881 and meter == 0 and (meter_reading > 1500 or meter_reading == 0)').index, 'IsFiltered'] = 1\n",
    "train_df.loc[train_df.query('building_id == 903 and meter == 0 and (meter_reading > 1000 or meter_reading == 0)').index, 'IsFiltered'] = 1\n",
    "train_df.loc[train_df.query('building_id == 993 and meter == 0 and (meter_reading > 2000 or meter_reading == 0)').index, 'IsFiltered'] = 1\n",
    "train_df.loc[train_df.query('building_id == 975 and meter == 0 and (meter_reading > 2000 or meter_reading == 0)').index, 'IsFiltered'] = 1\n",
    "train_df.loc[train_df.query('building_id == 929 and meter == 0 and (meter_reading > 600 or meter_reading == 0)').index, 'IsFiltered'] = 1\n",
    "train_df.loc[train_df.query('building_id == 883 and meter == 0 and (meter_reading > 1000 or meter_reading == 0)').index, 'IsFiltered'] = 1\n",
    "train_df.loc[train_df.query('building_id == 913 and meter == 0 and (meter_reading > 2000 or meter_reading == 0)').index, 'IsFiltered'] = 1\n",
    "train_df.loc[train_df.query('building_id == 928 and meter == 0 and (meter_reading > 1200 or meter_reading == 0)').index, 'IsFiltered'] = 1\n",
    "train_df.loc[train_df.query('building_id == 955 and meter == 0 and (meter_reading > 1500 or meter_reading == 0)').index, 'IsFiltered'] = 1\n",
    "train_df.loc[train_df.query('building_id == 945 and meter == 0 and (meter_reading > 700 or meter_reading == 0)').index, 'IsFiltered'] = 1\n",
    "train_df.loc[train_df.query('building_id == 946 and meter == 0 and (meter_reading > 1000 or meter_reading == 0)').index, 'IsFiltered'] = 1\n",
    "train_df.loc[train_df.query('building_id == 953 and meter == 0 and (meter_reading > 1000 or meter_reading == 0)').index, 'IsFiltered'] = 1\n",
    "train_df.loc[train_df.query('building_id == 994 and meter == 0 and (meter_reading > 250 or meter_reading == 0)').index, 'IsFiltered'] = 1\n",
    "train_df.loc[train_df.query('building_id == 927 and meter == 0 and (meter_reading > 1500 or meter_reading == 0)').index, 'IsFiltered'] = 1\n",
    "train_df.loc[train_df.query('building_id == 966 and meter == 0 and (meter_reading > 900 or meter_reading < 400)').index, 'IsFiltered'] = 1\n",
    "train_df.loc[train_df.query('building_id == 902 and meter == 0 and (meter_reading > 250  or meter_reading < 170)').index, 'IsFiltered'] = 1\n",
    "train_df.loc[train_df.query('building_id == 924 and meter == 0 and (meter_reading > 500  or meter_reading < 100)').index, 'IsFiltered'] = 1\n",
    "train_df.loc[train_df.query('building_id == 874 and meter == 0 and (meter_reading > 1000  or meter_reading < 200)').index, 'IsFiltered'] = 1\n",
    "train_df.loc[train_df.query('building_id == 890 and meter == 0 and (meter_reading > 600  or meter_reading < 300)').index, 'IsFiltered'] = 1\n",
    "train_df.loc[train_df.query('building_id == 914 and meter == 0 and (meter_reading > 600  or meter_reading < 300)').index, 'IsFiltered'] = 1\n",
    "train_df.loc[train_df.query('building_id == 917 and meter == 0 and (meter_reading > 600  or meter_reading < 250)').index, 'IsFiltered'] = 1\n",
    "train_df.loc[train_df.query('building_id == 932 and meter == 0 and (meter_reading > 500  or meter_reading < 200)').index, 'IsFiltered'] = 1"
   ]
  },
  {
   "cell_type": "code",
   "execution_count": 38,
   "metadata": {},
   "outputs": [],
   "source": [
    "train_df.loc[train_df.query('building_id == 903 and meter == 1 and (meter_reading > 4000 or meter_reading == 0)').index, 'IsFiltered'] = 1\n",
    "train_df.loc[train_df.query('building_id == 966 and meter == 1 and (meter_reading > 3000 or meter_reading == 0)').index, 'IsFiltered'] = 1\n",
    "train_df.loc[train_df.query('building_id == 962 and meter == 1 and (meter_reading > 2000 or meter_reading == 0)').index, 'IsFiltered'] = 1\n",
    "train_df.loc[train_df.query('building_id == 932 and meter == 1 and (meter_reading > 2500 or meter_reading == 0)').index, 'IsFiltered'] = 1\n",
    "train_df.loc[train_df.query('building_id == 883 and meter == 1 and (meter_reading > 2000 or meter_reading == 0)').index, 'IsFiltered'] = 1\n",
    "train_df.loc[train_df.query('building_id == 911 and meter == 1 and (meter_reading > 2000 or meter_reading == 0)').index, 'IsFiltered'] = 1\n",
    "train_df.loc[train_df.query('building_id == 913 and meter == 1 and (meter_reading > 4200)').index, 'IsFiltered'] = 1\n",
    "train_df.loc[train_df.query('building_id == 945 and meter == 1 and (meter_reading > 5000)').index, 'IsFiltered'] = 1\n",
    "train_df.loc[train_df.query('building_id == 928 and meter == 1 and (meter_reading > 3000)').index, 'IsFiltered'] = 1\n",
    "train_df.loc[train_df.query('building_id == 955 and meter == 1 and (meter_reading > 3500)').index, 'IsFiltered'] = 1\n",
    "train_df.loc[train_df.query('building_id == 890 and meter == 1 and (meter_reading > 3000)').index, 'IsFiltered'] = 1\n",
    "train_df.loc[train_df.query('building_id == 946 and meter == 1 and (meter_reading > 2000)').index, 'IsFiltered'] = 1\n",
    "train_df.loc[train_df.query('building_id == 972 and meter == 1 and (meter_reading > 2000 or meter_reading == 0)').index, 'IsFiltered'] = 1\n",
    "train_df.loc[train_df.query('building_id == 924 and meter == 1 and (meter_reading > 2000 or meter_reading == 0)').index, 'IsFiltered'] = 1\n",
    "train_df.loc[train_df.query('building_id == 958 and meter == 1 and (meter_reading > 4000)').index, 'IsFiltered'] = 1\n",
    "train_df.loc[train_df.query('building_id == 879 and meter == 1 and (meter_reading > 3000 or meter_reading == 0)').index, 'IsFiltered'] = 1\n",
    "train_df.loc[train_df.query('building_id == 914 and meter == 1 and (meter_reading > 3000 or meter_reading == 0)').index, 'IsFiltered'] = 1\n",
    "train_df.loc[train_df.query('building_id == 921 and meter == 1 and (meter_reading > 3000 or meter_reading == 0)').index, 'IsFiltered'] = 1\n",
    "train_df.loc[train_df.query('building_id == 953 and meter == 1 and (meter_reading > 3000 or meter_reading == 0)').index, 'IsFiltered'] = 1\n",
    "train_df.loc[train_df.query('building_id == 987 and meter == 1 and (meter_reading > 1500 or meter_reading == 0)').index, 'IsFiltered'] = 1\n",
    "train_df.loc[train_df.query('building_id == 971 and meter == 1 and (meter_reading > 1500 or meter_reading == 0)').index, 'IsFiltered'] = 1\n",
    "train_df.loc[train_df.query('building_id == 961 and meter == 1 and (meter_reading > 2000 or meter_reading == 0)').index, 'IsFiltered'] = 1\n",
    "train_df.loc[train_df.query('building_id == 931 and meter == 1 and (meter_reading > 2000 or meter_reading == 0)').index, 'IsFiltered'] = 1\n",
    "train_df.loc[train_df.query('building_id == 927 and meter == 1 and (meter_reading > 4000 or meter_reading == 0)').index, 'IsFiltered'] = 1\n",
    "train_df.loc[train_df.query('building_id == 964 and meter == 1 and (meter_reading > 1500)').index, 'IsFiltered'] = 1\n",
    "train_df.loc[train_df.query('building_id == 968 and meter == 1 and (meter_reading > 1500)').index, 'IsFiltered'] = 1\n",
    "train_df.loc[train_df.query('building_id == 896 and meter == 1 and (meter_reading > 1500)').index, 'IsFiltered'] = 1\n",
    "train_df.loc[train_df.query('building_id == 886 and meter == 1 and (meter_reading > 1500 or meter_reading == 0)').index, 'IsFiltered'] = 1"
   ]
  },
  {
   "cell_type": "markdown",
   "metadata": {},
   "source": [
    "## Site 10"
   ]
  },
  {
   "cell_type": "code",
   "execution_count": 39,
   "metadata": {},
   "outputs": [
    {
     "name": "stdout",
     "output_type": "stream",
     "text": [
      "[Site 10 - Electricity] Filtering outliers\n"
     ]
    }
   ],
   "source": [
    "print('[Site 10 - Electricity] Filtering outliers')\n",
    "train_df.loc[train_df.query('building_id == 998 and meter == 0 and meter_reading > 300').index, 'IsFiltered'] = 1\n",
    "train_df.loc[train_df.query('building_id == 1000 and meter == 0 and meter_reading > 300').index, 'IsFiltered'] = 1\n",
    "train_df.loc[train_df.query('building_id == 1006 and meter == 0 and meter_reading == 0').index, 'IsFiltered'] = 1\n",
    "train_df.loc[train_df.query('building_id == 1008 and meter == 0 and (meter_reading > 250 or meter_reading < 5)').index, 'IsFiltered'] = 1\n",
    "train_df.loc[train_df.query('building_id == 1019 and meter == 0 and meter_reading == 0').index, 'IsFiltered'] = 1\n",
    "train_df.loc[train_df.query('building_id == 1025 and meter == 0 and meter_reading < 20').index, 'IsFiltered'] = 1"
   ]
  },
  {
   "cell_type": "code",
   "execution_count": 40,
   "metadata": {},
   "outputs": [
    {
     "name": "stdout",
     "output_type": "stream",
     "text": [
      "[Site 10 - Chilled Water] Filtering outliers\n"
     ]
    }
   ],
   "source": [
    "print('[Site 10 - Chilled Water] Filtering outliers')\n",
    "train_df.loc[train_df.query('building_id == 1003 and meter == 1 and meter_reading > 1000').index, 'IsFiltered'] = 1\n",
    "train_df.loc[train_df.query('building_id == 1017 and meter == 1 and meter_reading > 2000').index, 'IsFiltered'] = 1"
   ]
  },
  {
   "cell_type": "code",
   "execution_count": 41,
   "metadata": {},
   "outputs": [
    {
     "name": "stdout",
     "output_type": "stream",
     "text": [
      "[Site 10 - Hot Water] Filtering outliers\n"
     ]
    }
   ],
   "source": [
    "print('[Site 10 - Hot Water] Filtering outliers')\n",
    "train_df.loc[train_df.query('building_id == 1000 and meter == 3 and meter_reading > 5000').index, 'IsFiltered'] = 1\n",
    "train_df.loc[train_df.query('building_id == 1003 and meter == 3 and meter_reading > 40 and (\"2016-06-01\" < timestamp < \"2016-08-01\")').index, 'IsFiltered'] = 1\n",
    "train_df.loc[train_df.query('building_id == 1012 and meter == 3 and meter_reading > 500').index, 'IsFiltered'] = 1\n",
    "train_df.loc[train_df.query('building_id == 1017 and meter == 3 and meter_reading > 5000').index, 'IsFiltered'] = 1\n",
    "train_df.loc[train_df.query('building_id == 1018 and meter == 3 and meter_reading > 10000').index, 'IsFiltered'] = 1"
   ]
  },
  {
   "cell_type": "markdown",
   "metadata": {},
   "source": [
    "## Site 12"
   ]
  },
  {
   "cell_type": "code",
   "execution_count": 42,
   "metadata": {},
   "outputs": [
    {
     "name": "stdout",
     "output_type": "stream",
     "text": [
      "[Site 12 - Electricity] Filtering leading constant values\n"
     ]
    }
   ],
   "source": [
    "print('[Site 12 - Electricity] Filtering leading constant values')\n",
    "site12_meter0_thresholds = {\n",
    "    50: [1066]\n",
    "}\n",
    "\n",
    "for threshold in site12_meter0_thresholds:\n",
    "    for building_id in site12_meter0_thresholds[threshold]:\n",
    "        filtered_idx = find_constant(building_id, 0, threshold)\n",
    "        train_df.loc[filtered_idx, 'IsFiltered'] = 1"
   ]
  },
  {
   "cell_type": "markdown",
   "metadata": {},
   "source": [
    "## Site 13"
   ]
  },
  {
   "cell_type": "code",
   "execution_count": 43,
   "metadata": {},
   "outputs": [
    {
     "name": "stdout",
     "output_type": "stream",
     "text": [
      "[Site 13 - Electricity] Filtering outliers\n"
     ]
    }
   ],
   "source": [
    "print('[Site 13 - Electricity] Filtering outliers')\n",
    "train_df.loc[train_df.query('building_id == 1070 and meter == 0 and (meter_reading < 0 or meter_reading > 200)').index, 'IsFiltered'] = 1\n",
    "train_df.loc[train_df.query('building_id == 1073 and meter == 0 and (meter_reading < 60 or meter_reading > 800)').index, 'IsFiltered'] = 1\n",
    "train_df.loc[train_df.query('building_id == 1073 and meter == 0 and timestamp < \"2016-08-01\" and meter_reading > 200').index, 'IsFiltered'] = 1\n",
    "train_df.loc[train_df.query('building_id == 1082 and meter == 0 and (meter_reading < 5 or meter_reading > 200)').index, 'IsFiltered'] = 1\n",
    "train_df.loc[train_df.query('building_id == 1088 and meter == 0 and meter_reading == 0').index, 'IsFiltered'] = 1\n",
    "train_df.loc[train_df.query('building_id == 1098 and meter == 0 and meter_reading == 0').index, 'IsFiltered'] = 1\n",
    "train_df.loc[train_df.query('building_id == 1100 and meter == 0 and meter_reading == 0').index, 'IsFiltered'] = 1\n",
    "train_df.loc[train_df.query('building_id == 1119 and meter == 0 and meter_reading < 30').index, 'IsFiltered'] = 1\n",
    "train_df.loc[train_df.query('building_id == 1128 and meter == 0 and (meter_reading < 25 or meter_reading > 175)').index, 'IsFiltered'] = 1\n",
    "train_df.loc[train_df.query('building_id == 1153 and meter == 0 and (meter_reading < 90 or meter_reading > 250)').index, 'IsFiltered'] = 1\n",
    "train_df.loc[train_df.query('building_id == 1157 and meter == 0 and (meter_reading < 110 or meter_reading > 200)').index, 'IsFiltered'] = 1\n",
    "train_df.loc[train_df.query('building_id == 1162 and meter == 0 and meter_reading == 0').index, 'IsFiltered'] = 1\n",
    "train_df.loc[train_df.query('building_id == 1163 and meter == 0 and meter_reading < 30').index, 'IsFiltered'] = 1\n",
    "train_df.loc[train_df.query('building_id == 1165 and meter == 0 and meter_reading == 0').index, 'IsFiltered'] = 1\n",
    "train_df.loc[train_df.query('building_id == 1167 and meter == 0 and (meter_reading == 0 or meter_reading > 250)').index, 'IsFiltered'] = 1\n",
    "train_df.loc[train_df.query('building_id == 1168 and meter == 0 and meter_reading > 6000').index, 'IsFiltered'] = 1\n",
    "train_df.loc[train_df.query('building_id == 1172 and meter == 0 and meter_reading < 100').index, 'IsFiltered'] = 1\n",
    "train_df.loc[train_df.query('building_id == 1177 and meter == 0 and meter_reading < 15').index, 'IsFiltered'] = 1\n",
    "train_df.loc[train_df.query('building_id == 1185 and meter == 0 and (meter_reading > 300 or meter_reading < 10)').index, 'IsFiltered'] = 1\n",
    "train_df.loc[train_df.query('building_id == 1202 and meter == 0 and (meter_reading < 50 or meter_reading > 300)').index, 'IsFiltered'] = 1\n",
    "train_df.loc[train_df.query('building_id == 1203 and meter == 0 and meter_reading == 0').index, 'IsFiltered'] = 1\n",
    "train_df.loc[train_df.query('building_id == 1206 and meter == 0 and meter_reading < 40').index, 'IsFiltered'] = 1\n",
    "train_df.loc[train_df.query('building_id == 1207 and meter == 0 and meter_reading < 100').index, 'IsFiltered'] = 1\n",
    "train_df.loc[train_df.query('building_id == 1208 and meter == 0 and meter_reading < 100').index, 'IsFiltered'] = 1\n",
    "train_df.loc[train_df.query('building_id == 1209 and meter == 0 and (meter_reading > 350 or meter_reading < 175)').index, 'IsFiltered'] = 1\n",
    "train_df.loc[train_df.query('building_id == 1210 and meter == 0 and (meter_reading > 225 or meter_reading < 75)').index, 'IsFiltered'] = 1\n",
    "train_df.loc[train_df.query('building_id == 1212 and meter == 0 and meter_reading < 600').index, 'IsFiltered'] = 1\n",
    "train_df.loc[train_df.query('building_id == 1219 and meter == 0 and (meter_reading < 35 or meter_reading > 300)').index, 'IsFiltered'] = 1\n",
    "train_df.loc[train_df.query('building_id == 1222 and meter == 0 and meter_reading < 100').index, 'IsFiltered'] = 1"
   ]
  },
  {
   "cell_type": "code",
   "execution_count": 44,
   "metadata": {},
   "outputs": [
    {
     "name": "stdout",
     "output_type": "stream",
     "text": [
      "[Site 13 - Electricity] Filtering leading constant values\n"
     ]
    }
   ],
   "source": [
    "print('[Site 13 - Electricity] Filtering leading constant values')\n",
    "site13_meter0_thresholds = {\n",
    "    40: [1079, 1096, 1113, 1154, 1160, 1169, 1170, 1189, 1221]\n",
    "}\n",
    "\n",
    "for threshold in site13_meter0_thresholds:\n",
    "    for building_id in site13_meter0_thresholds[threshold]:\n",
    "        filtered_idx = find_constant(building_id, 0, threshold)\n",
    "        train_df.loc[filtered_idx, 'IsFiltered'] = 1"
   ]
  },
  {
   "cell_type": "code",
   "execution_count": 45,
   "metadata": {},
   "outputs": [
    {
     "name": "stdout",
     "output_type": "stream",
     "text": [
      "[Site 13 - Chilled Water] Filtering outliers\n"
     ]
    }
   ],
   "source": [
    "print('[Site 13 - Chilled Water] Filtering outliers')\n",
    "train_df.loc[train_df.query('building_id == 1088 and meter == 1 and meter_reading > 10000').index, 'IsFiltered'] = 1\n",
    "train_df.loc[train_df.query('building_id == 1220 and meter == 1 and meter_reading > 4000').index, 'IsFiltered'] = 1"
   ]
  },
  {
   "cell_type": "code",
   "execution_count": 46,
   "metadata": {},
   "outputs": [
    {
     "name": "stdout",
     "output_type": "stream",
     "text": [
      "[Site 13 - Chilled Water] Filtering leading constant values\n"
     ]
    }
   ],
   "source": [
    "print('[Site 13 - Chilled Water] Filtering leading constant values')\n",
    "site13_meter1_thresholds = {\n",
    "    40: [1130, 1160]\n",
    "}\n",
    "\n",
    "for threshold in site13_meter1_thresholds:\n",
    "    for building_id in site13_meter1_thresholds[threshold]:\n",
    "        filtered_idx = find_constant(building_id, 1, threshold)\n",
    "        train_df.loc[filtered_idx, 'IsFiltered'] = 1"
   ]
  },
  {
   "cell_type": "code",
   "execution_count": 47,
   "metadata": {},
   "outputs": [
    {
     "name": "stdout",
     "output_type": "stream",
     "text": [
      "[Site 13 - Steam] Filtering outliers\n"
     ]
    }
   ],
   "source": [
    "print('[Site 13 - Steam] Filtering outliers')\n",
    "train_df.loc[train_df.query('building_id == 1075 and meter == 2 and meter_reading > 3500').index, 'IsFiltered'] = 1\n",
    "train_df.loc[train_df.query('building_id == 1099 and meter == 2 and meter_reading > 30000').index, 'IsFiltered'] = 1"
   ]
  },
  {
   "cell_type": "code",
   "execution_count": 48,
   "metadata": {},
   "outputs": [
    {
     "name": "stdout",
     "output_type": "stream",
     "text": [
      "[Site 13 - Steam] Filtering leading constant values\n"
     ]
    }
   ],
   "source": [
    "print('[Site 13 - Steam] Filtering leading constant values')\n",
    "site13_meter2_thresholds = {\n",
    "    40: [1072, 1098, 1158],\n",
    "    100: [1111],\n",
    "    500: [1129, 1176, 1189]\n",
    "}\n",
    "\n",
    "for threshold in site13_meter2_thresholds:\n",
    "    for building_id in site13_meter2_thresholds[threshold]:\n",
    "        filtered_idx = find_constant(building_id, 2, threshold)\n",
    "        train_df.loc[filtered_idx, 'IsFiltered'] = 1"
   ]
  },
  {
   "cell_type": "markdown",
   "metadata": {},
   "source": [
    "## Site 14"
   ]
  },
  {
   "cell_type": "code",
   "execution_count": 49,
   "metadata": {},
   "outputs": [
    {
     "name": "stdout",
     "output_type": "stream",
     "text": [
      "[Site 14 - Electricity] Filtering outliers\n"
     ]
    }
   ],
   "source": [
    "print('[Site 14 - Electricity] Filtering outliers')\n",
    "train_df.loc[train_df.query('building_id == 1252 and meter == 0 and meter_reading == 0').index, 'IsFiltered'] = 1\n",
    "train_df.loc[train_df.query('building_id == 1258 and meter == 0 and meter_reading == 0').index, 'IsFiltered'] = 1\n",
    "train_df.loc[train_df.query('building_id == 1263 and meter == 0 and meter_reading == 0').index, 'IsFiltered'] = 1\n",
    "train_df.loc[train_df.query('building_id == 1284 and meter == 0 and meter_reading == 0').index, 'IsFiltered'] = 1"
   ]
  },
  {
   "cell_type": "code",
   "execution_count": 50,
   "metadata": {},
   "outputs": [
    {
     "name": "stdout",
     "output_type": "stream",
     "text": [
      "[Site 14 - Electricity] Filtering leading constant values\n"
     ]
    }
   ],
   "source": [
    "print('[Site 14 - Electricity] Filtering leading constant values')\n",
    "site14_meter0_thresholds = {\n",
    "    100: [1223, 1225, 1226, 1240, 1241, 1250, 1255, 1264, 1265, 1272, 1275, 1276, 1277, 1278, 1279, 1280, 1283,\n",
    "          1291, 1292, 1293, 1294, 1295, 1296, 1297, 1298, 1299, 1300, 1302, 1303, 1317, 1322],\n",
    "    300: [1319],\n",
    "    500: [1233, 1234]\n",
    "}\n",
    "\n",
    "for threshold in site14_meter0_thresholds:\n",
    "    for building_id in site14_meter0_thresholds[threshold]:\n",
    "        filtered_idx = find_constant(building_id, 0, threshold)\n",
    "        train_df.loc[filtered_idx, 'IsFiltered'] = 1"
   ]
  },
  {
   "cell_type": "code",
   "execution_count": 51,
   "metadata": {},
   "outputs": [
    {
     "name": "stdout",
     "output_type": "stream",
     "text": [
      "[Site 14 - Chilled Water] Filtering outliers\n"
     ]
    }
   ],
   "source": [
    "print('[Site 14 - Chilled Water] Filtering outliers')\n",
    "train_df.loc[train_df.query('building_id == 1236 and meter == 1 and meter_reading > 2000').index, 'IsFiltered'] = 1\n",
    "train_df.loc[train_df.query('building_id == 1242 and meter == 1 and meter_reading > 800').index, 'IsFiltered'] = 1\n",
    "train_df.loc[train_df.query('building_id == 1276 and meter == 1 and meter_reading > 600').index, 'IsFiltered'] = 1\n",
    "train_df.loc[train_df.query('building_id == 1280 and meter == 1 and meter_reading > 120').index, 'IsFiltered'] = 1\n",
    "train_df.loc[train_df.query('building_id == 1311 and meter == 1 and meter_reading > 1100').index, 'IsFiltered'] = 1"
   ]
  },
  {
   "cell_type": "code",
   "execution_count": 52,
   "metadata": {},
   "outputs": [
    {
     "name": "stdout",
     "output_type": "stream",
     "text": [
      "[Site 14 - Chilled Water] Filtering leading constant values\n"
     ]
    }
   ],
   "source": [
    "print('[Site 14 - Chilled Water] Filtering leading constant values')\n",
    "site14_meter1_thresholds = {\n",
    "    50: [1239, 1245, 1247, 1248, 1254, 1287, 1295, 1307, 1308],\n",
    "    100: [1225, 1226, 1227, 1230, 1232, 1233, 1234, 1237, 1240, 1246, 1260, 1263, 1264, 1272, 1276, \n",
    "          1280, 1288, 1290, 1291, 1292, 1293, 1294, 1296, 1297, 1300, 1302, 1303, 1310, 1311, 1312, \n",
    "          1317],\n",
    "    500: [1223]\n",
    "}\n",
    "\n",
    "for threshold in site14_meter1_thresholds:\n",
    "    for building_id in site14_meter1_thresholds[threshold]:\n",
    "        filtered_idx = find_constant(building_id, 1, threshold)\n",
    "        train_df.loc[filtered_idx, 'IsFiltered'] = 1"
   ]
  },
  {
   "cell_type": "code",
   "execution_count": 53,
   "metadata": {},
   "outputs": [
    {
     "name": "stdout",
     "output_type": "stream",
     "text": [
      "[Site 14 - Steam] Filtering outliers\n"
     ]
    }
   ],
   "source": [
    "print('[Site 14 - Steam] Filtering outliers')\n",
    "train_df.loc[train_df.query('building_id == 1249 and meter == 2 and meter_reading > 4000').index, 'IsFiltered'] = 1\n",
    "train_df.loc[train_df.query('building_id == 1254 and meter == 2 and meter_reading > 1000').index, 'IsFiltered'] = 1\n",
    "train_df.loc[train_df.query('building_id == 1256 and meter == 2 and meter_reading > 1500').index, 'IsFiltered'] = 1\n",
    "train_df.loc[train_df.query('building_id == 1263 and meter == 2 and meter_reading > 9000').index, 'IsFiltered'] = 1"
   ]
  },
  {
   "cell_type": "code",
   "execution_count": 54,
   "metadata": {},
   "outputs": [
    {
     "name": "stdout",
     "output_type": "stream",
     "text": [
      "[Site 14 - Steam] Filtering leading constant values\n"
     ]
    }
   ],
   "source": [
    "print('[Site 14 - Steam] Filtering leading constant values')\n",
    "site14_meter2_thresholds = {\n",
    "    50: [1225, 1226, 1239, 1254, 1284, 1285, 1286, 1287, 1289, 1290,\n",
    "         1291, 1292, 1293, 1294, 1295, 1296, 1297, 1298, 1299, 1301,\n",
    "         1303, 1305, 1308, 1309, 1310],\n",
    "    100: [1238, 1243, 1245, 1247, 1248, 1249, 1250, 1263, 1307]\n",
    "}\n",
    "\n",
    "for threshold in site14_meter2_thresholds:\n",
    "    for building_id in site14_meter2_thresholds[threshold]:\n",
    "        filtered_idx = find_constant(building_id, 2, threshold)\n",
    "        train_df.loc[filtered_idx, 'IsFiltered'] = 1"
   ]
  },
  {
   "cell_type": "code",
   "execution_count": 55,
   "metadata": {},
   "outputs": [
    {
     "name": "stdout",
     "output_type": "stream",
     "text": [
      "[Site 14 - Hot Water] Filtering outliers\n"
     ]
    }
   ],
   "source": [
    "print('[Site 14 - Hot Water] Filtering outliers')\n",
    "train_df.loc[train_df.query('building_id == 1231 and meter == 3 and meter_reading > 600').index, 'IsFiltered'] = 1\n",
    "train_df.loc[train_df.query('building_id == 1232 and meter == 3 and meter_reading > 4500').index, 'IsFiltered'] = 1\n",
    "train_df.loc[train_df.query('building_id == 1236 and meter == 3 and meter_reading > 600').index, 'IsFiltered'] = 1\n",
    "train_df.loc[train_df.query('building_id == 1251 and meter == 3 and meter_reading > 3000').index, 'IsFiltered'] = 1\n",
    "train_df.loc[train_df.query('building_id == 1268 and meter == 3 and meter_reading > 1500').index, 'IsFiltered'] = 1\n",
    "train_df.loc[train_df.query('building_id == 1274 and meter == 3 and meter_reading > 1000').index, 'IsFiltered'] = 1\n",
    "train_df.loc[train_df.query('building_id == 1298 and meter == 3 and meter_reading > 5000').index, 'IsFiltered'] = 1"
   ]
  },
  {
   "cell_type": "code",
   "execution_count": 56,
   "metadata": {},
   "outputs": [
    {
     "name": "stdout",
     "output_type": "stream",
     "text": [
      "[Site 14 - Hot Water] Filtering leading constant values\n"
     ]
    }
   ],
   "source": [
    "print('[Site 14 - Hot Water] Filtering leading constant values')\n",
    "site14_meter3_thresholds = {\n",
    "    40: [1270, 1322, 1323],\n",
    "    50: [1223, 1224, 1227, 1228, 1229, 1231, 1233, 1234, 1235, 1236, 1240, 1242, 1244, 1246, 1251, 1252, 1260, 1262, 1265,\n",
    "         1266, 1267, 1269, 1271, 1272, 1273, 1274, 1275, 1276, 1312, 1317, 1318, 1319, 1321],\n",
    "    100: [1231, 1232, 1237]\n",
    "}\n",
    "\n",
    "for threshold in site14_meter3_thresholds:\n",
    "    for building_id in site14_meter3_thresholds[threshold]:\n",
    "        filtered_idx = find_constant(building_id, 3, threshold)\n",
    "        train_df.loc[filtered_idx, 'IsFiltered'] = 1"
   ]
  },
  {
   "cell_type": "markdown",
   "metadata": {},
   "source": [
    "## Site 15"
   ]
  },
  {
   "cell_type": "code",
   "execution_count": 57,
   "metadata": {},
   "outputs": [
    {
     "name": "stdout",
     "output_type": "stream",
     "text": [
      "[Site 15 - Electricity] Filtering outliers\n"
     ]
    }
   ],
   "source": [
    "print('[Site 15 - Electricity] Filtering outliers')\n",
    "train_df.loc[train_df.query('building_id == 1383 and meter == 0 and meter_reading < 60').index, 'IsFiltered'] = 1\n",
    "train_df.loc[train_df.query('building_id == 1401 and meter == 0 and meter_reading < 10').index, 'IsFiltered'] = 1\n",
    "train_df.loc[train_df.query('building_id == 1414 and meter == 0 and meter_reading < 30').index, 'IsFiltered'] = 1\n",
    "train_df.loc[train_df.query('building_id == 1423 and meter == 0 and meter_reading < 5').index, 'IsFiltered'] = 1"
   ]
  },
  {
   "cell_type": "code",
   "execution_count": 58,
   "metadata": {},
   "outputs": [
    {
     "name": "stdout",
     "output_type": "stream",
     "text": [
      "[Site 15 - Electricity] Filtering leading constant values\n"
     ]
    }
   ],
   "source": [
    "print('[Site 15 - Electricity] Filtering leading constant values')\n",
    "site15_meter0_thresholds = {\n",
    "    50: [1345, 1359, 1446]\n",
    "}\n",
    "\n",
    "for threshold in site15_meter0_thresholds:\n",
    "    for building_id in site15_meter0_thresholds[threshold]:\n",
    "        filtered_idx = find_constant(building_id, 0, threshold)\n",
    "        train_df.loc[filtered_idx, 'IsFiltered'] = 1"
   ]
  },
  {
   "cell_type": "code",
   "execution_count": 59,
   "metadata": {},
   "outputs": [
    {
     "name": "stdout",
     "output_type": "stream",
     "text": [
      "[Site 15 - Chilled Water] Filtering outliers\n"
     ]
    }
   ],
   "source": [
    "print('[Site 15 - Chilled Water] Filtering outliers')\n",
    "train_df.loc[train_df.query('building_id == 1349 and meter == 1 and meter_reading > 1000 and timestamp < \"2016-04-15\"').index, 'IsFiltered'] = 1\n",
    "train_df.loc[train_df.query('building_id == 1382 and meter == 1 and meter_reading > 300 and timestamp < \"2016-02-01\"').index, 'IsFiltered'] = 1"
   ]
  },
  {
   "cell_type": "code",
   "execution_count": 60,
   "metadata": {},
   "outputs": [
    {
     "name": "stdout",
     "output_type": "stream",
     "text": [
      "[Site 15 - Chilled Water] Filtering leading constant values\n"
     ]
    }
   ],
   "source": [
    "print('[Site 15 - Chilled Water] Filtering leading constant values')\n",
    "site15_meter1_thresholds = {\n",
    "    50: [1363, 1410]\n",
    "}\n",
    "\n",
    "for threshold in site15_meter1_thresholds:\n",
    "    for building_id in site15_meter1_thresholds[threshold]:\n",
    "        filtered_idx = find_constant(building_id, 1, threshold)\n",
    "        train_df.loc[filtered_idx, 'IsFiltered'] = 1"
   ]
  },
  {
   "cell_type": "code",
   "execution_count": 61,
   "metadata": {},
   "outputs": [
    {
     "name": "stdout",
     "output_type": "stream",
     "text": [
      "[Site 15 - Steam] Filtering outliers\n"
     ]
    }
   ],
   "source": [
    "print('[Site 15 - Steam] Filtering outliers')\n",
    "train_df.loc[train_df.query('building_id == 1355 and meter == 2 and meter_reading < 200').index, 'IsFiltered'] = 1\n",
    "train_df.loc[train_df.query('building_id == 1361 and meter == 2 and meter_reading < 203').index, 'IsFiltered'] = 1\n",
    "train_df.loc[train_df.query('building_id == 1392 and meter == 2 and meter_reading < 150').index, 'IsFiltered'] = 1\n",
    "train_df.loc[train_df.query('building_id == 1426 and meter == 2 and meter_reading > 1000').index, 'IsFiltered'] = 1"
   ]
  },
  {
   "cell_type": "code",
   "execution_count": 62,
   "metadata": {},
   "outputs": [
    {
     "name": "stdout",
     "output_type": "stream",
     "text": [
      "[Site 15 - Steam] Filtering leading constant values\n"
     ]
    }
   ],
   "source": [
    "print('[Site 15 - Steam] Filtering leading constant values')\n",
    "site15_meter2_thresholds = {\n",
    "    20: [1425, 1427],\n",
    "    40: [1329, 1337, 1338, 1341, 1342, 1344, 1347, 1350, 1351, 1354, 1360, 1364,\n",
    "         1367, 1377, 1379, 1381, 1382, 1383, 1391, 1396, 1402, 1405, 1406, 1409,\n",
    "         1414, 1418, 1424, 1430, 1433, 1437]\n",
    "}\n",
    "\n",
    "for threshold in site15_meter2_thresholds:\n",
    "    for building_id in site15_meter2_thresholds[threshold]:\n",
    "        filtered_idx = find_constant(building_id, 2, threshold)\n",
    "        train_df.loc[filtered_idx, 'IsFiltered'] = 1"
   ]
  },
  {
   "cell_type": "markdown",
   "metadata": {},
   "source": [
    "## Drop outliers"
   ]
  },
  {
   "cell_type": "code",
   "execution_count": 63,
   "metadata": {},
   "outputs": [
    {
     "data": {
      "text/plain": [
       "23"
      ]
     },
     "execution_count": 63,
     "metadata": {},
     "output_type": "execute_result"
    }
   ],
   "source": [
    "train_df.drop(train_df.query('IsFiltered == 1').index, inplace=True)\n",
    "train_df.drop(columns=['IsFiltered'], inplace=True)\n",
    "train_df.reset_index(drop=True, inplace=True)\n",
    "gc.collect()"
   ]
  },
  {
   "cell_type": "markdown",
   "metadata": {},
   "source": [
    "## Preprocess data"
   ]
  },
  {
   "cell_type": "code",
   "execution_count": 64,
   "metadata": {},
   "outputs": [
    {
     "data": {
      "text/html": [
       "<div>\n",
       "<style scoped>\n",
       "    .dataframe tbody tr th:only-of-type {\n",
       "        vertical-align: middle;\n",
       "    }\n",
       "\n",
       "    .dataframe tbody tr th {\n",
       "        vertical-align: top;\n",
       "    }\n",
       "\n",
       "    .dataframe thead th {\n",
       "        text-align: right;\n",
       "    }\n",
       "</style>\n",
       "<table border=\"1\" class=\"dataframe\">\n",
       "  <thead>\n",
       "    <tr style=\"text-align: right;\">\n",
       "      <th></th>\n",
       "      <th>building_id</th>\n",
       "      <th>meter</th>\n",
       "      <th>timestamp</th>\n",
       "      <th>meter_reading</th>\n",
       "      <th>site_id</th>\n",
       "      <th>primary_use</th>\n",
       "      <th>square_feet</th>\n",
       "      <th>year_built</th>\n",
       "      <th>floor_count</th>\n",
       "    </tr>\n",
       "  </thead>\n",
       "  <tbody>\n",
       "    <tr>\n",
       "      <td>0</td>\n",
       "      <td>105</td>\n",
       "      <td>0</td>\n",
       "      <td>2016-01-01</td>\n",
       "      <td>23.303600</td>\n",
       "      <td>1</td>\n",
       "      <td>Education</td>\n",
       "      <td>50623</td>\n",
       "      <td>NaN</td>\n",
       "      <td>5.0</td>\n",
       "    </tr>\n",
       "    <tr>\n",
       "      <td>1</td>\n",
       "      <td>106</td>\n",
       "      <td>0</td>\n",
       "      <td>2016-01-01</td>\n",
       "      <td>0.374600</td>\n",
       "      <td>1</td>\n",
       "      <td>Education</td>\n",
       "      <td>5374</td>\n",
       "      <td>NaN</td>\n",
       "      <td>4.0</td>\n",
       "    </tr>\n",
       "    <tr>\n",
       "      <td>2</td>\n",
       "      <td>106</td>\n",
       "      <td>3</td>\n",
       "      <td>2016-01-01</td>\n",
       "      <td>0.000000</td>\n",
       "      <td>1</td>\n",
       "      <td>Education</td>\n",
       "      <td>5374</td>\n",
       "      <td>NaN</td>\n",
       "      <td>4.0</td>\n",
       "    </tr>\n",
       "    <tr>\n",
       "      <td>3</td>\n",
       "      <td>107</td>\n",
       "      <td>0</td>\n",
       "      <td>2016-01-01</td>\n",
       "      <td>175.184006</td>\n",
       "      <td>1</td>\n",
       "      <td>Education</td>\n",
       "      <td>97532</td>\n",
       "      <td>2005.0</td>\n",
       "      <td>10.0</td>\n",
       "    </tr>\n",
       "    <tr>\n",
       "      <td>4</td>\n",
       "      <td>108</td>\n",
       "      <td>0</td>\n",
       "      <td>2016-01-01</td>\n",
       "      <td>91.265297</td>\n",
       "      <td>1</td>\n",
       "      <td>Education</td>\n",
       "      <td>81580</td>\n",
       "      <td>1913.0</td>\n",
       "      <td>5.0</td>\n",
       "    </tr>\n",
       "  </tbody>\n",
       "</table>\n",
       "</div>"
      ],
      "text/plain": [
       "   building_id  meter  timestamp  meter_reading  site_id primary_use  \\\n",
       "0          105      0 2016-01-01      23.303600        1   Education   \n",
       "1          106      0 2016-01-01       0.374600        1   Education   \n",
       "2          106      3 2016-01-01       0.000000        1   Education   \n",
       "3          107      0 2016-01-01     175.184006        1   Education   \n",
       "4          108      0 2016-01-01      91.265297        1   Education   \n",
       "\n",
       "   square_feet  year_built  floor_count  \n",
       "0        50623         NaN          5.0  \n",
       "1         5374         NaN          4.0  \n",
       "2         5374         NaN          4.0  \n",
       "3        97532      2005.0         10.0  \n",
       "4        81580      1913.0          5.0  "
      ]
     },
     "execution_count": 64,
     "metadata": {},
     "output_type": "execute_result"
    }
   ],
   "source": [
    "train_df.head()"
   ]
  },
  {
   "cell_type": "code",
   "execution_count": 65,
   "metadata": {},
   "outputs": [
    {
     "data": {
      "text/plain": [
       "20216100"
      ]
     },
     "execution_count": 65,
     "metadata": {},
     "output_type": "execute_result"
    }
   ],
   "source": [
    "original_row_sum"
   ]
  },
  {
   "cell_type": "code",
   "execution_count": 67,
   "metadata": {},
   "outputs": [
    {
     "data": {
      "text/plain": [
       "0.9623805778562631"
      ]
     },
     "execution_count": 67,
     "metadata": {},
     "output_type": "execute_result"
    }
   ],
   "source": [
    "train_df.shape[0]/original_row_sum"
   ]
  },
  {
   "cell_type": "code",
   "execution_count": 69,
   "metadata": {},
   "outputs": [],
   "source": [
    "train_df.to_csv(DATA_PATH + 'train_cleaned.csv', index=False)"
   ]
  }
 ],
 "metadata": {
  "kernelspec": {
   "display_name": "Python 3",
   "language": "python",
   "name": "python3"
  },
  "language_info": {
   "codemirror_mode": {
    "name": "ipython",
    "version": 3
   },
   "file_extension": ".py",
   "mimetype": "text/x-python",
   "name": "python",
   "nbconvert_exporter": "python",
   "pygments_lexer": "ipython3",
   "version": "3.7.4"
  }
 },
 "nbformat": 4,
 "nbformat_minor": 2
}
